{
  "nbformat": 4,
  "nbformat_minor": 0,
  "metadata": {
    "colab": {
      "provenance": [],
      "authorship_tag": "ABX9TyN/LwVoxGx4imI5nd1Ag6+f",
      "include_colab_link": true
    },
    "kernelspec": {
      "name": "python3",
      "display_name": "Python 3"
    },
    "language_info": {
      "name": "python"
    }
  },
  "cells": [
    {
      "cell_type": "markdown",
      "metadata": {
        "id": "view-in-github",
        "colab_type": "text"
      },
      "source": [
        "<a href=\"https://colab.research.google.com/github/nairtm/Analista_de_dados_Flora_SoulCode/blob/main/etl_sql_para_bq_nair.ipynb\" target=\"_parent\"><img src=\"https://colab.research.google.com/assets/colab-badge.svg\" alt=\"Open In Colab\"/></a>"
      ]
    },
    {
      "cell_type": "code",
      "execution_count": null,
      "metadata": {
        "colab": {
          "base_uri": "https://localhost:8080/"
        },
        "id": "aPNy06WEEhXF",
        "outputId": "9326baef-aaa3-4daa-b691-4f44e2181394"
      },
      "outputs": [
        {
          "output_type": "stream",
          "name": "stdout",
          "text": [
            "35.231.34.190"
          ]
        }
      ],
      "source": [
        "!curl ipecho.net/plain"
      ]
    },
    {
      "cell_type": "code",
      "source": [
        "!pip install mysql-connector-python"
      ],
      "metadata": {
        "colab": {
          "base_uri": "https://localhost:8080/"
        },
        "id": "nqVkPua6OSXa",
        "outputId": "1c64c431-cb9f-4878-e69e-86dffaaf3fdc"
      },
      "execution_count": null,
      "outputs": [
        {
          "output_type": "stream",
          "name": "stdout",
          "text": [
            "Collecting mysql-connector-python\n",
            "  Downloading mysql_connector_python-9.1.0-cp310-cp310-manylinux_2_28_x86_64.whl.metadata (6.0 kB)\n",
            "Downloading mysql_connector_python-9.1.0-cp310-cp310-manylinux_2_28_x86_64.whl (34.4 MB)\n",
            "\u001b[2K   \u001b[90m━━━━━━━━━━━━━━━━━━━━━━━━━━━━━━━━━━━━━━━━\u001b[0m \u001b[32m34.4/34.4 MB\u001b[0m \u001b[31m29.3 MB/s\u001b[0m eta \u001b[36m0:00:00\u001b[0m\n",
            "\u001b[?25hInstalling collected packages: mysql-connector-python\n",
            "Successfully installed mysql-connector-python-9.1.0\n"
          ]
        }
      ]
    },
    {
      "cell_type": "code",
      "source": [
        "# Importando as bibliotecas necessárias\n",
        "import mysql.connector\n",
        "import pandas as pd\n",
        "from google.cloud import bigquery\n",
        "import requests\n",
        "import os\n",
        "\n",
        "# URL pública para a chave de serviço JSON\n",
        "json_key_url = 'https://storage.googleapis.com/chaves-etl-nair/etl_bq/projeto-nair-440013-268bb6aba577.json'\n",
        "local_json_path = '/tmp/service_account_key.json'\n",
        "\n",
        "def download_key_from_url():\n",
        "    \"\"\"Função para baixar a chave JSON de uma URL pública\"\"\"\n",
        "    response = requests.get(json_key_url)\n",
        "    if response.status_code == 200:\n",
        "        with open(local_json_path, 'wb') as f:\n",
        "            f.write(response.content)\n",
        "        print(\"Chave JSON baixada com sucesso da URL pública.\")\n",
        "    else:\n",
        "        print(\"Falha ao baixar a chave JSON. Verifique a URL.\")\n",
        "\n",
        "# Baixar a chave JSON\n",
        "download_key_from_url()\n",
        "\n",
        "# Inicializando o cliente BigQuery com a chave JSON diretamente\n",
        "client = bigquery.Client.from_service_account_json(local_json_path)\n",
        "\n",
        "# Variáveis de conexão MySQL\n",
        "db_config = {\n",
        "    \"host\": \"34.30.237.57\",\n",
        "    \"user\": \"root\",\n",
        "    \"password\": \"\",\n",
        "    \"database\": \"loja\",\n",
        "}\n",
        "\n",
        "# Definindo as variáveis com id do projeto e nome do dataset\n",
        "project_id = 'projeto-nair-440013'\n",
        "dataset_id = 'loja_python_otimizado'\n",
        "\n",
        "def fetch_and_load_to_bigquery(query, table_name):\n",
        "    # Conexão com MySQL, executando as consultas, e convertendo para DataFrame\n",
        "    with mysql.connector.connect(**db_config) as conn:\n",
        "        df = pd.read_sql(query, conn)\n",
        "    # Carregando os DataFrames na BigQuery\n",
        "    df.to_gbq(f\"{project_id}.{dataset_id}.{table_name}\", project_id=project_id,\n",
        "              if_exists='replace', credentials=client._credentials)\n",
        "    print(f\"Loaded {table_name} to BigQuery successfully.\")\n",
        "\n",
        "# Definindo as queries e seus respectivos nomes de tabela na BigQuery\n",
        "queries = {\n",
        "    \"cliente\": \"SELECT * FROM Cliente;\",\n",
        "    \"pedido\": \"SELECT * FROM Pedido;\",\n",
        "    \"produto\": \"SELECT * FROM Produto;\",\n",
        "    \"item_pedido\": \"SELECT * FROM ItemPedido;\",\n",
        "    \"categoria\": \"SELECT * FROM Categoria;\",\n",
        "    \"produto_pedido\": \"SELECT * FROM ProdutoCategoria;\"\n",
        "}\n",
        "\n",
        "# Executando o código para cada tabela existente no banco transacional\n",
        "for table_name, query in queries.items():\n",
        "    fetch_and_load_to_bigquery(query, table_name)"
      ],
      "metadata": {
        "colab": {
          "base_uri": "https://localhost:8080/"
        },
        "id": "ywtnK9g7Rimw",
        "outputId": "5f628c62-8ad4-4185-fe7e-9e47b8a98740"
      },
      "execution_count": null,
      "outputs": [
        {
          "output_type": "stream",
          "name": "stdout",
          "text": [
            "Chave JSON baixada com sucesso da URL pública.\n"
          ]
        },
        {
          "output_type": "stream",
          "name": "stderr",
          "text": [
            "<ipython-input-3-c7911b5da11b>:43: UserWarning: pandas only supports SQLAlchemy connectable (engine/connection) or database string URI or sqlite3 DBAPI2 connection. Other DBAPI2 objects are not tested. Please consider using SQLAlchemy.\n",
            "  df = pd.read_sql(query, conn)\n",
            "<ipython-input-3-c7911b5da11b>:45: FutureWarning: to_gbq is deprecated and will be removed in a future version. Please use pandas_gbq.to_gbq instead: https://pandas-gbq.readthedocs.io/en/latest/api.html#pandas_gbq.to_gbq\n",
            "  df.to_gbq(f\"{project_id}.{dataset_id}.{table_name}\", project_id=project_id,\n",
            "100%|██████████| 1/1 [00:00<00:00, 6132.02it/s]\n"
          ]
        },
        {
          "output_type": "stream",
          "name": "stdout",
          "text": [
            "Loaded cliente to BigQuery successfully.\n"
          ]
        },
        {
          "output_type": "stream",
          "name": "stderr",
          "text": [
            "<ipython-input-3-c7911b5da11b>:43: UserWarning: pandas only supports SQLAlchemy connectable (engine/connection) or database string URI or sqlite3 DBAPI2 connection. Other DBAPI2 objects are not tested. Please consider using SQLAlchemy.\n",
            "  df = pd.read_sql(query, conn)\n",
            "<ipython-input-3-c7911b5da11b>:45: FutureWarning: to_gbq is deprecated and will be removed in a future version. Please use pandas_gbq.to_gbq instead: https://pandas-gbq.readthedocs.io/en/latest/api.html#pandas_gbq.to_gbq\n",
            "  df.to_gbq(f\"{project_id}.{dataset_id}.{table_name}\", project_id=project_id,\n",
            "100%|██████████| 1/1 [00:00<00:00, 729.70it/s]\n"
          ]
        },
        {
          "output_type": "stream",
          "name": "stdout",
          "text": [
            "Loaded pedido to BigQuery successfully.\n"
          ]
        },
        {
          "output_type": "stream",
          "name": "stderr",
          "text": [
            "<ipython-input-3-c7911b5da11b>:43: UserWarning: pandas only supports SQLAlchemy connectable (engine/connection) or database string URI or sqlite3 DBAPI2 connection. Other DBAPI2 objects are not tested. Please consider using SQLAlchemy.\n",
            "  df = pd.read_sql(query, conn)\n",
            "<ipython-input-3-c7911b5da11b>:45: FutureWarning: to_gbq is deprecated and will be removed in a future version. Please use pandas_gbq.to_gbq instead: https://pandas-gbq.readthedocs.io/en/latest/api.html#pandas_gbq.to_gbq\n",
            "  df.to_gbq(f\"{project_id}.{dataset_id}.{table_name}\", project_id=project_id,\n",
            "100%|██████████| 1/1 [00:00<00:00, 6186.29it/s]\n"
          ]
        },
        {
          "output_type": "stream",
          "name": "stdout",
          "text": [
            "Loaded produto to BigQuery successfully.\n"
          ]
        },
        {
          "output_type": "stream",
          "name": "stderr",
          "text": [
            "<ipython-input-3-c7911b5da11b>:43: UserWarning: pandas only supports SQLAlchemy connectable (engine/connection) or database string URI or sqlite3 DBAPI2 connection. Other DBAPI2 objects are not tested. Please consider using SQLAlchemy.\n",
            "  df = pd.read_sql(query, conn)\n",
            "<ipython-input-3-c7911b5da11b>:45: FutureWarning: to_gbq is deprecated and will be removed in a future version. Please use pandas_gbq.to_gbq instead: https://pandas-gbq.readthedocs.io/en/latest/api.html#pandas_gbq.to_gbq\n",
            "  df.to_gbq(f\"{project_id}.{dataset_id}.{table_name}\", project_id=project_id,\n",
            "100%|██████████| 1/1 [00:00<00:00, 6594.82it/s]\n"
          ]
        },
        {
          "output_type": "stream",
          "name": "stdout",
          "text": [
            "Loaded item_pedido to BigQuery successfully.\n"
          ]
        },
        {
          "output_type": "stream",
          "name": "stderr",
          "text": [
            "<ipython-input-3-c7911b5da11b>:43: UserWarning: pandas only supports SQLAlchemy connectable (engine/connection) or database string URI or sqlite3 DBAPI2 connection. Other DBAPI2 objects are not tested. Please consider using SQLAlchemy.\n",
            "  df = pd.read_sql(query, conn)\n",
            "<ipython-input-3-c7911b5da11b>:45: FutureWarning: to_gbq is deprecated and will be removed in a future version. Please use pandas_gbq.to_gbq instead: https://pandas-gbq.readthedocs.io/en/latest/api.html#pandas_gbq.to_gbq\n",
            "  df.to_gbq(f\"{project_id}.{dataset_id}.{table_name}\", project_id=project_id,\n",
            "100%|██████████| 1/1 [00:00<00:00, 2563.76it/s]\n"
          ]
        },
        {
          "output_type": "stream",
          "name": "stdout",
          "text": [
            "Loaded categoria to BigQuery successfully.\n"
          ]
        },
        {
          "output_type": "stream",
          "name": "stderr",
          "text": [
            "<ipython-input-3-c7911b5da11b>:43: UserWarning: pandas only supports SQLAlchemy connectable (engine/connection) or database string URI or sqlite3 DBAPI2 connection. Other DBAPI2 objects are not tested. Please consider using SQLAlchemy.\n",
            "  df = pd.read_sql(query, conn)\n",
            "<ipython-input-3-c7911b5da11b>:45: FutureWarning: to_gbq is deprecated and will be removed in a future version. Please use pandas_gbq.to_gbq instead: https://pandas-gbq.readthedocs.io/en/latest/api.html#pandas_gbq.to_gbq\n",
            "  df.to_gbq(f\"{project_id}.{dataset_id}.{table_name}\", project_id=project_id,\n",
            "100%|██████████| 1/1 [00:00<00:00, 7397.36it/s]"
          ]
        },
        {
          "output_type": "stream",
          "name": "stdout",
          "text": [
            "Loaded produto_pedido to BigQuery successfully.\n"
          ]
        },
        {
          "output_type": "stream",
          "name": "stderr",
          "text": [
            "\n"
          ]
        }
      ]
    }
  ]
}