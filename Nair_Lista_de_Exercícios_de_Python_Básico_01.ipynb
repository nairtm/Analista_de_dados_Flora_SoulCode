{
  "nbformat": 4,
  "nbformat_minor": 0,
  "metadata": {
    "colab": {
      "provenance": [],
      "include_colab_link": true
    },
    "kernelspec": {
      "name": "python3",
      "display_name": "Python 3"
    },
    "language_info": {
      "name": "python"
    }
  },
  "cells": [
    {
      "cell_type": "markdown",
      "metadata": {
        "id": "view-in-github",
        "colab_type": "text"
      },
      "source": [
        "<a href=\"https://colab.research.google.com/github/nairtm/Analista_de_dados_Flora_SoulCode/blob/main/Nair_Lista_de_Exerc%C3%ADcios_de_Python_B%C3%A1sico_01.ipynb\" target=\"_parent\"><img src=\"https://colab.research.google.com/assets/colab-badge.svg\" alt=\"Open In Colab\"/></a>"
      ]
    },
    {
      "cell_type": "markdown",
      "source": [
        "# 1 - Variáveis e Tipos de Dados"
      ],
      "metadata": {
        "id": "uxGISqtR2yNT"
      }
    },
    {
      "cell_type": "code",
      "execution_count": null,
      "metadata": {
        "id": "tLS0FEGj2rS7"
      },
      "outputs": [],
      "source": [
        "'''\n",
        "1.1. Crie variáveis para armazenar o nome, idade, peso e altura de uma pessoa.\n",
        "Imprima os valores e os tipos de dados dessas variáveis.\n",
        "'''"
      ]
    },
    {
      "cell_type": "code",
      "source": [
        "nome = 'Nair'\n",
        "peso = 70.6\n",
        "altura = 1.60\n",
        "idade = 27\n",
        "print('Meu nome é: ', nome, type (nome))\n",
        "print('Meu peso é: ' , peso, type (peso))\n",
        "print('Minha altura é: ', altura, type (altura))\n",
        "print('Minha idade é: ', idade, type (idade))"
      ],
      "metadata": {
        "colab": {
          "base_uri": "https://localhost:8080/"
        },
        "id": "aMKi_qDxjJE-",
        "outputId": "1f028d88-fde4-47dd-cc0f-0b46f62e9b55"
      },
      "execution_count": null,
      "outputs": [
        {
          "output_type": "stream",
          "name": "stdout",
          "text": [
            "Meu nome é:  Nair <class 'str'>\n",
            "Meu peso é:  68.6 <class 'float'>\n",
            "Minha altura é:  1.6 <class 'float'>\n",
            "Minha idade é:  27 <class 'int'>\n"
          ]
        }
      ]
    },
    {
      "cell_type": "code",
      "source": [
        "'''\n",
        "1.2. Atualize a variável de peso para um valor diferente e imprima o novo valor.\n",
        "'''"
      ],
      "metadata": {
        "id": "VFVgrodF27TT"
      },
      "execution_count": null,
      "outputs": []
    },
    {
      "cell_type": "code",
      "source": [
        "peso = 73.6\n",
        "print('Meu peso novo é: ' , peso, type (peso))"
      ],
      "metadata": {
        "colab": {
          "base_uri": "https://localhost:8080/"
        },
        "id": "IxoZqLzHmfrC",
        "outputId": "5a47dc63-1792-4514-8cd6-dfe5984f7d4f"
      },
      "execution_count": null,
      "outputs": [
        {
          "output_type": "stream",
          "name": "stdout",
          "text": [
            "Meu peso novo é:  73.6 <class 'float'>\n"
          ]
        }
      ]
    },
    {
      "cell_type": "markdown",
      "source": [
        "# 2 - Operadores Matemáticos"
      ],
      "metadata": {
        "id": "RRRbkSkr3Ajw"
      }
    },
    {
      "cell_type": "code",
      "source": [
        "'''\n",
        "2.1. Crie uma variável a com valor 10 e uma variável b com valor 3. Realize as\n",
        "seguintes operações e imprima os resultados:\n",
        "Soma\n",
        "Subtração\n",
        "Multiplicação\n",
        "Divisão\n",
        "Parte inteira da divisão\n",
        "Resto da divisão\n",
        "Exponenciação\n",
        "'''"
      ],
      "metadata": {
        "id": "hHAztIDU3AJP"
      },
      "execution_count": null,
      "outputs": []
    },
    {
      "cell_type": "code",
      "source": [
        "a = 10\n",
        "b = 3\n",
        "soma = a + b\n",
        "print('Soma:',soma)\n",
        "sub = a - b\n",
        "print('Subtração:', sub)\n",
        "mult = a * b\n",
        "print('Multiplicação:',mult)\n",
        "div= a/b\n",
        "print('Divisão:', f'{div:.3f}')\n",
        "parte = a//b\n",
        "print('Parte inteira da divisão:',parte)\n",
        "resto = a%b\n",
        "print ('Resto da divisão:',resto)\n",
        "expon = a**b\n",
        "print('Exponenciação:',expon)"
      ],
      "metadata": {
        "colab": {
          "base_uri": "https://localhost:8080/"
        },
        "id": "iNUHysDHm2vo",
        "outputId": "6c7cb1df-8733-4f29-edc1-9be40b5d0c40"
      },
      "execution_count": null,
      "outputs": [
        {
          "output_type": "stream",
          "name": "stdout",
          "text": [
            "Soma: 13\n",
            "Subtração: 7\n",
            "Multiplicação: 30\n",
            "Divisão: 3.333\n",
            "Parte inteira da divisão: 3\n",
            "Resto da divisão: 1\n",
            "Exponenciação: 1000\n"
          ]
        }
      ]
    },
    {
      "cell_type": "markdown",
      "source": [
        "# 3 - Entrada de Dados pelo Usuário\n"
      ],
      "metadata": {
        "id": "jWJt5Ep23OFd"
      }
    },
    {
      "cell_type": "code",
      "source": [
        "'''\n",
        "3.1. Peça ao usuário para digitar seu nome e armazene em uma variável. Imprima\n",
        "uma mensagem de boas-vindas usando o nome fornecido.\n",
        "'''"
      ],
      "metadata": {
        "id": "IiD6jUJh3eiD"
      },
      "execution_count": null,
      "outputs": []
    },
    {
      "cell_type": "code",
      "source": [
        "nome = input('Qual seu nome? ')\n",
        "print('Boas-vindas', nome)\n",
        "#nome = input('Informe seu nome: ')\n",
        "#print(f'Seja bem-vindo: {nome}!')\n",
        "#pode ter diferentes respostas saindo o mesmo resultado"
      ],
      "metadata": {
        "colab": {
          "base_uri": "https://localhost:8080/"
        },
        "id": "jTPYZTxlsNSO",
        "outputId": "1ced5a52-c2f0-421e-d8c2-be898768833b"
      },
      "execution_count": null,
      "outputs": [
        {
          "output_type": "stream",
          "name": "stdout",
          "text": [
            "Qual seu nome? Nair\n",
            "Boas-vindas Nair\n"
          ]
        }
      ]
    },
    {
      "cell_type": "code",
      "source": [
        "'''\n",
        "3.2. Peça ao usuário para digitar sua idade, peso e altura. Calcule o IMC e\n",
        "imprima o resultado arredondado para três casas decimais.\n",
        "'''"
      ],
      "metadata": {
        "id": "Y4kz72aR3k8d"
      },
      "execution_count": null,
      "outputs": []
    },
    {
      "cell_type": "code",
      "source": [
        "idade = input('Informe a idade: ')\n",
        "peso = float(input ('Informe o peso: '))\n",
        "altura = float(input ('Informe a altura: '))\n",
        "imc = (peso)/(altura)**2\n",
        "print('O resultado do IMC é: ', f'{imc:.3f}')\n",
        "'''\n",
        "#método alternativo\n",
        "dados = input('Informe sua idade, peso e altura separados por espaços: ')\n",
        "dados = dados.split() #função split em Python oferece uma maneira eficaz de dividir strings\n",
        "for i in range(len(dados)):\n",
        "  dados[i] = float(dados[i])\n",
        "imc = dados[1]/dados[2]**2\n",
        "print(f'O IMC é {imc:.3f}')\n",
        "'''"
      ],
      "metadata": {
        "colab": {
          "base_uri": "https://localhost:8080/"
        },
        "id": "lA_mod1EyN-e",
        "outputId": "b4bdd874-2246-4e70-f205-83c4c5182690"
      },
      "execution_count": null,
      "outputs": [
        {
          "output_type": "stream",
          "name": "stdout",
          "text": [
            "Informe a idade: 23\n",
            "Informe o peso: 79\n",
            "Informe a altura: 1.86\n",
            "O resultado do IMC é:  22.835\n"
          ]
        }
      ]
    },
    {
      "cell_type": "markdown",
      "source": [
        "# 4 - Função de Impressão"
      ],
      "metadata": {
        "id": "zqRV3Plv3pjL"
      }
    },
    {
      "cell_type": "code",
      "source": [
        "'''\n",
        "4.1. Peça ao usuário para digitar um número e imprima o número digitado.\n",
        "'''"
      ],
      "metadata": {
        "id": "N5AbRV3i3vYV"
      },
      "execution_count": null,
      "outputs": []
    },
    {
      "cell_type": "code",
      "source": [
        "numero = input('Digite um número: ')\n",
        "print('O número é :', numero)"
      ],
      "metadata": {
        "colab": {
          "base_uri": "https://localhost:8080/"
        },
        "id": "fOvWd7s41zem",
        "outputId": "2fd7b711-fc17-4a4e-973b-383318806f43"
      },
      "execution_count": null,
      "outputs": [
        {
          "output_type": "stream",
          "name": "stdout",
          "text": [
            "Digite um número: 4\n",
            "O número é : 4\n"
          ]
        }
      ]
    },
    {
      "cell_type": "code",
      "source": [
        "'''\n",
        "4.2. Peça ao usuário para digitar dois números e imprima a soma deles.\n",
        "'''"
      ],
      "metadata": {
        "id": "qM2ocOFl3vpB"
      },
      "execution_count": null,
      "outputs": []
    },
    {
      "cell_type": "code",
      "source": [
        "\n",
        "x = float(input('Digite o primeiro número: '))\n",
        "y = float(input ('Digite o segundo número: '))\n",
        "soma = x+y\n",
        "print('A soma dos números é: ', soma)\n",
        "#print(f'A soma dos números informados é {n1+n2}')\n",
        "'''\n",
        "ns = input('Informe dois números separados por espaços: ')\n",
        "ns = ns.split() #O método split() quebra a string de entrada em uma lista de substrings, separando-as pelos espaços.\n",
        "for i in range(len(ns)):#range(len(ns)) cria uma sequência de índices para a lista: [0, 1].\n",
        "  #O loop for percorre cada índice i da lista e converte o valor correspondente de string para float\n",
        "  ns[i] = float(ns[i])\n",
        "print(f'A soma dos números informados é {sum(ns)}') #sum() soma os elementos numéricos da lista.\n",
        "'''"
      ],
      "metadata": {
        "colab": {
          "base_uri": "https://localhost:8080/"
        },
        "id": "7Lu5EgSW2l2j",
        "outputId": "f72312ba-48b3-4623-fc2f-054248ae0a99"
      },
      "execution_count": null,
      "outputs": [
        {
          "output_type": "stream",
          "name": "stdout",
          "text": [
            "Informe dois números separados por espaços: 3 4\n",
            "A soma dos números informados é 7.0\n"
          ]
        }
      ]
    },
    {
      "cell_type": "markdown",
      "source": [
        "# 5 - Métodos de Strings"
      ],
      "metadata": {
        "id": "RWwlLaOu35jq"
      }
    },
    {
      "cell_type": "code",
      "source": [
        "'''\n",
        "5.1. Peça ao usuário para digitar um e-mail e verifique se o e-mail contém o\n",
        "caractere '@'. Imprima uma mensagem indicando se é um e-mail válido ou não.\n",
        "'''"
      ],
      "metadata": {
        "id": "PnAPaeXY3-dA"
      },
      "execution_count": null,
      "outputs": []
    },
    {
      "cell_type": "code",
      "source": [
        "email = input('Informe seu email: ')\n",
        "if email.find('@') != -1: #if '@' in email:\n",
        "    #!= -1: O if verifica se o valor retornado pelo find() é diferente de -1\n",
        "    #Se for diferente de -1: Significa que o caractere '@' foi encontrado\n",
        "    print('Email é válido')\n",
        "else:\n",
        "    print('Email inválido')\n"
      ],
      "metadata": {
        "colab": {
          "base_uri": "https://localhost:8080/"
        },
        "id": "6CfUgn8R3yjA",
        "outputId": "733acea5-065a-4a37-c465-3981f6570cf6"
      },
      "execution_count": null,
      "outputs": [
        {
          "output_type": "stream",
          "name": "stdout",
          "text": [
            "Informe seu email: nair@gmail.com\n",
            "Email é válido\n"
          ]
        }
      ]
    },
    {
      "cell_type": "code",
      "source": [
        "'''\n",
        "5.2. Peça ao usuário para digitar uma frase e:\n",
        "Converta a frase para maiúsculas.\n",
        "Converta a frase para minúsculas.\n",
        "Converta a primeira letra de cada palavra para maiúscula.\n",
        "Verifique se a frase começa com uma determinada palavra (ex.: 'Olá').\n",
        "'''"
      ],
      "metadata": {
        "id": "nkwe0I9c3-w-"
      },
      "execution_count": null,
      "outputs": []
    },
    {
      "cell_type": "code",
      "source": [
        "frase= input('Informe uma frase: ')\n",
        "print(frase.upper())\n",
        "print(frase.lower())\n",
        "print(frase.title())\n",
        "if frase.startswith('Olá'): #startswith() - começa com\n",
        "    print('A frase começa com Olá')\n",
        "else:\n",
        "    print('A frase não começa com Olá')"
      ],
      "metadata": {
        "colab": {
          "base_uri": "https://localhost:8080/"
        },
        "id": "AbKm91c07x_p",
        "outputId": "7501c4ab-855c-474e-8b36-bc55dae15296"
      },
      "execution_count": null,
      "outputs": [
        {
          "output_type": "stream",
          "name": "stdout",
          "text": [
            "Informe uma frase: bom dia Olá\n",
            "BOM DIA OLÁ\n",
            "bom dia olá\n",
            "Bom Dia Olá\n",
            "A frase não começa com Olá\n"
          ]
        }
      ]
    },
    {
      "cell_type": "markdown",
      "source": [
        "# 6 - Listas"
      ],
      "metadata": {
        "id": "HZQlB-8K4snX"
      }
    },
    {
      "cell_type": "code",
      "source": [
        "'''\n",
        "6.1. Crie uma lista com os nomes de cinco amigos. Imprima o nome do terceiro\n",
        "amigo na lista.\n",
        "\n",
        "'''"
      ],
      "metadata": {
        "id": "3_3JLvXZ4sBG"
      },
      "execution_count": null,
      "outputs": []
    },
    {
      "cell_type": "code",
      "source": [
        "bestfriend = ['Junior','Nair','Alice','Lorraine', 'Guilherme']\n",
        "print(bestfriend[2])"
      ],
      "metadata": {
        "colab": {
          "base_uri": "https://localhost:8080/"
        },
        "id": "eG83wfYjBA6J",
        "outputId": "2e8e611c-d88a-4c47-eb16-3b87945409db"
      },
      "execution_count": null,
      "outputs": [
        {
          "output_type": "stream",
          "name": "stdout",
          "text": [
            "Alice\n"
          ]
        }
      ]
    },
    {
      "cell_type": "code",
      "source": [
        "'''\n",
        "6.2. Adicione um novo nome à lista de amigos e remova o primeiro nome.\n",
        "Imprima a lista atualizada.\n",
        "'''"
      ],
      "metadata": {
        "id": "ppcjLqMb4yDu"
      },
      "execution_count": null,
      "outputs": []
    },
    {
      "cell_type": "code",
      "source": [
        "bestfriend.append('Fernanda')\n",
        "bestfriend.pop(0)\n",
        "print(bestfriend)"
      ],
      "metadata": {
        "colab": {
          "base_uri": "https://localhost:8080/"
        },
        "id": "Fdo1wquxC4lh",
        "outputId": "07fe2e26-1ac6-4d12-d89b-fab54c74e704"
      },
      "execution_count": null,
      "outputs": [
        {
          "output_type": "stream",
          "name": "stdout",
          "text": [
            "['Nair', 'Alice', 'Lorraine', 'Guilherme', 'Fernanda']\n"
          ]
        }
      ]
    },
    {
      "cell_type": "code",
      "source": [
        "'''\n",
        "6.3. Crie uma lista com as idades dos seus amigos e:\n",
        "Imprima a idade do amigo mais velho.\n",
        "Imprima a idade do amigo mais novo.\n",
        "Calcule e imprima a soma das idades.\n",
        "'''"
      ],
      "metadata": {
        "id": "Hoz7RcUW4zc4"
      },
      "execution_count": null,
      "outputs": []
    },
    {
      "cell_type": "code",
      "source": [
        "idade_bestfriend = [ 27, 28, 30, 29, 33 ]\n",
        "print('Idade amigo mais velho: ', max(idade_bestfriend))\n",
        "print('Idade amigo mais novo: ', min(idade_bestfriend))\n",
        "print('Soma das idades: ', sum(idade_bestfriend))"
      ],
      "metadata": {
        "colab": {
          "base_uri": "https://localhost:8080/"
        },
        "id": "R8gbeLuqEVMo",
        "outputId": "71511bf3-a2a6-444c-9bd1-1638731a97cb"
      },
      "execution_count": null,
      "outputs": [
        {
          "output_type": "stream",
          "name": "stdout",
          "text": [
            "Idade amigo mais velho:  33\n",
            "Idade amigo mais novo:  27\n",
            "Soma das idades:  147\n"
          ]
        }
      ]
    },
    {
      "cell_type": "markdown",
      "source": [
        "# 7 - Tuplas"
      ],
      "metadata": {
        "id": "9WTzsCNH4-tT"
      }
    },
    {
      "cell_type": "code",
      "source": [
        "'''\n",
        "7.1 Crie uma tupla com as informações de um cliente (nome, idade, peso, altura).\n",
        "Imprima todas as informações.\n",
        "'''"
      ],
      "metadata": {
        "id": "XpWW7G-p5BOJ"
      },
      "execution_count": null,
      "outputs": []
    },
    {
      "cell_type": "code",
      "source": [
        "cliente = ('Nair', 27, 70.6, 1.60)\n",
        "print(cliente)\n",
        "'''\n",
        "#método alternativo\n",
        "cliente = ('Douglas', 48, 87, 1.85)\n",
        "print(f'Nome: {cliente[0]}')\n",
        "print(f'Idade: {cliente[1]}')\n",
        "print(f'Peso: {cliente[2]}')\n",
        "print(f'Altura: {cliente[0]}')\n",
        "'''"
      ],
      "metadata": {
        "colab": {
          "base_uri": "https://localhost:8080/"
        },
        "id": "6t3NiV_CIqd_",
        "outputId": "c9134a59-5128-4e0b-945f-3a88225d5ec8"
      },
      "execution_count": null,
      "outputs": [
        {
          "output_type": "stream",
          "name": "stdout",
          "text": [
            "('Nair', 27, 70.6, 1.6)\n"
          ]
        }
      ]
    },
    {
      "cell_type": "code",
      "source": [
        "'''\n",
        "7.2. Crie uma nova tupla concatenando a tupla do exercício anterior com o e-mail\n",
        "do cliente. Imprima a nova tupla.\n",
        "'''"
      ],
      "metadata": {
        "id": "tIzWFwzc5GQ8"
      },
      "execution_count": null,
      "outputs": []
    },
    {
      "cell_type": "code",
      "source": [
        "cliente = ('Nair', 27, 70.6, 1.60)\n",
        "email = input('Informe o email: ')\n",
        "cliente = cliente + (email,) #para concatenar precisa da vírgula no final\n",
        "print(cliente)"
      ],
      "metadata": {
        "colab": {
          "base_uri": "https://localhost:8080/"
        },
        "id": "kYTazjDTJG6C",
        "outputId": "0bbf1ddc-2707-425b-848f-dfb793298387"
      },
      "execution_count": null,
      "outputs": [
        {
          "output_type": "stream",
          "name": "stdout",
          "text": [
            "Informe o email: nair@gmail.com\n",
            "('Nair', 27, 70.6, 1.6, 'nair@gmail.com')\n"
          ]
        }
      ]
    },
    {
      "cell_type": "markdown",
      "source": [
        "# 8 - Dicionários"
      ],
      "metadata": {
        "id": "-zg06dPu5ZJC"
      }
    },
    {
      "cell_type": "code",
      "source": [
        "'''\n",
        "8.1. Crie um dicionário com informações de um cliente\n",
        "(nome, idade, peso, altura). Imprima o valor associado à chave 'nome'.\n",
        "'''"
      ],
      "metadata": {
        "id": "E_wd3pdX5clA"
      },
      "execution_count": null,
      "outputs": []
    },
    {
      "cell_type": "code",
      "source": [
        "cliente = {'nome': 'Nair', 'idade': '27', 'peso': '70.6', 'altura': '1.60'}\n",
        "print(cliente['nome'])"
      ],
      "metadata": {
        "colab": {
          "base_uri": "https://localhost:8080/"
        },
        "id": "5wQmIuuwLjvO",
        "outputId": "63259583-3d7b-425c-86df-ae9f37bcd716"
      },
      "execution_count": null,
      "outputs": [
        {
          "output_type": "stream",
          "name": "stdout",
          "text": [
            "Nair\n"
          ]
        }
      ]
    },
    {
      "cell_type": "code",
      "source": [
        "'''\n",
        "8.2. Adicione uma nova chave 'email' ao dicionário do exercício anterior e\n",
        "imprima o dicionário atualizado.\n",
        "'''"
      ],
      "metadata": {
        "id": "kM-tUW7o5eK7"
      },
      "execution_count": null,
      "outputs": []
    },
    {
      "cell_type": "code",
      "source": [
        "email = input('Informe o email: ')\n",
        "cliente['email'] = email\n",
        "print(cliente)"
      ],
      "metadata": {
        "colab": {
          "base_uri": "https://localhost:8080/"
        },
        "id": "5FayE4J7Mjfm",
        "outputId": "8628af6a-aabc-4de4-dcb3-5583b5220b0a"
      },
      "execution_count": null,
      "outputs": [
        {
          "output_type": "stream",
          "name": "stdout",
          "text": [
            "Informe o email: nairt@gmail.com\n",
            "{'nome': 'Nair', 'idade': '27', 'peso': '70.6', 'altura': '1.60', 'email': 'nairt@gmail.com'}\n"
          ]
        }
      ]
    },
    {
      "cell_type": "code",
      "source": [
        "'''\n",
        "8.3. Remova a chave 'peso' do dicionário e verifique se a chave 'endereço' está\n",
        "no dicionário. Imprima os resultados.\n",
        "'''"
      ],
      "metadata": {
        "id": "xFhFuFOV5ffs"
      },
      "execution_count": null,
      "outputs": []
    },
    {
      "cell_type": "code",
      "source": [
        "cliente.pop('peso')\n",
        "print(cliente)\n",
        "if 'endereco' in cliente:# esqueci de colocar essa parte do código\n",
        "  print(' A chave endereço está no dicionário')\n",
        "else:\n",
        "  print('A chave endereço não está no dicionário')"
      ],
      "metadata": {
        "colab": {
          "base_uri": "https://localhost:8080/"
        },
        "id": "2XZH0AzUNCHg",
        "outputId": "00bfc440-bfd8-4e13-d7cc-7a44100e6eab"
      },
      "execution_count": null,
      "outputs": [
        {
          "output_type": "stream",
          "name": "stdout",
          "text": [
            "{'nome': 'Nair', 'idade': '27', 'altura': '1.60', 'email': 'nairt@gmail.com'}\n",
            "A chave endereço não está no dicionário\n"
          ]
        }
      ]
    },
    {
      "cell_type": "markdown",
      "source": [
        "# 9 - Controle de Fluxo"
      ],
      "metadata": {
        "id": "zDOsohbe5sjQ"
      }
    },
    {
      "cell_type": "code",
      "source": [
        "# Condicionais\n",
        "'''\n",
        "9.1. Peça ao usuário para digitar sua idade e verifique se ele é menor de idade,\n",
        " adulto ou idoso. Imprima uma mensagem correspondente.\n",
        "'''"
      ],
      "metadata": {
        "id": "efFgv5Xx5wFC"
      },
      "execution_count": null,
      "outputs": []
    },
    {
      "cell_type": "code",
      "source": [
        "idade = int(input('Informe a idade: '))\n",
        "if idade < 18:\n",
        "    print('Menor de idade')\n",
        "elif int(idade) >= 18 and idade < 60:\n",
        "    print('Adulto')\n",
        "else:\n",
        "    print('Idoso')\n",
        "    '''\n",
        "idade = float(input('Informe sua idade: '))\n",
        "if idade < 18:\n",
        "  print('Você é menor de idade: ')\n",
        "elif idade < 85:\n",
        "  print('Você é adulto')\n",
        "else:\n",
        "  print('Você é idoso')\n",
        "    '''"
      ],
      "metadata": {
        "colab": {
          "base_uri": "https://localhost:8080/"
        },
        "id": "f4fH52kYOqbV",
        "outputId": "0eb9d9e5-8493-4dde-c04e-cb3ed43e4b3a"
      },
      "execution_count": null,
      "outputs": [
        {
          "output_type": "stream",
          "name": "stdout",
          "text": [
            "Informe a idade: 59\n",
            "Adulto\n"
          ]
        }
      ]
    },
    {
      "cell_type": "code",
      "source": [
        "# Condicionais\n",
        "'''\n",
        "9.2. Peça ao usuário para digitar uma nota (0 a 100) e imprima se ele foi\n",
        "aprovado (nota >= 60) ou reprovado.\n",
        "'''"
      ],
      "metadata": {
        "id": "pse5b4NO52OP"
      },
      "execution_count": null,
      "outputs": []
    },
    {
      "cell_type": "code",
      "source": [
        "nota = float(input('Digite a nota: '))\n",
        "if nota >= 60:\n",
        "    print('Aprovado')\n",
        "else:\n",
        "    print('Reprovado')"
      ],
      "metadata": {
        "colab": {
          "base_uri": "https://localhost:8080/"
        },
        "id": "lUCaF5tTPqOd",
        "outputId": "951e0772-4798-45ea-e254-b14d012d08d5"
      },
      "execution_count": null,
      "outputs": [
        {
          "output_type": "stream",
          "name": "stdout",
          "text": [
            "Digite a nota: 100\n",
            "Aprovado\n"
          ]
        }
      ]
    },
    {
      "cell_type": "code",
      "source": [
        "# Loop For\n",
        "'''\n",
        "9.3. Crie uma lista com os nomes de cinco cidades. Use um loop for para imprimir\n",
        "cada nome de cidade.\n",
        "'''"
      ],
      "metadata": {
        "id": "inMnGHFy525K"
      },
      "execution_count": null,
      "outputs": []
    },
    {
      "cell_type": "code",
      "source": [
        "cidade = ['Natal', 'São Paulo', 'Vitória', 'Campinas', 'Fortaleza']\n",
        "for c in cidade:\n",
        "    print(c)"
      ],
      "metadata": {
        "colab": {
          "base_uri": "https://localhost:8080/"
        },
        "id": "ffRZ_QlnP_jk",
        "outputId": "34712b4c-bd10-4600-9e1d-106c5bfe1333"
      },
      "execution_count": null,
      "outputs": [
        {
          "output_type": "stream",
          "name": "stdout",
          "text": [
            "Natal\n",
            "São Paulo\n",
            "Vitória\n",
            "Campinas\n",
            "Fortaleza\n"
          ]
        }
      ]
    },
    {
      "cell_type": "code",
      "source": [
        "# Loop For\n",
        "'''\n",
        "9.4. Crie uma lista com os números de 1 a 10. Use um loop for para imprimir o\n",
        "quadrado de cada número.\n",
        "'''"
      ],
      "metadata": {
        "id": "GitTfGfM539Y"
      },
      "execution_count": null,
      "outputs": []
    },
    {
      "cell_type": "code",
      "source": [
        "for i in range(1,11):# inicio e parada somando mais um.range cria uma sequencia de numeros\n",
        "    print(i**2)#pode ser print(f'O quadrado de {n} é {n**2}')"
      ],
      "metadata": {
        "colab": {
          "base_uri": "https://localhost:8080/"
        },
        "id": "HDxvaCwsQt8f",
        "outputId": "e11e068e-c808-4b6b-8c8e-8fce0e496ed8"
      },
      "execution_count": null,
      "outputs": [
        {
          "output_type": "stream",
          "name": "stdout",
          "text": [
            "1\n",
            "4\n",
            "9\n",
            "16\n",
            "25\n",
            "36\n",
            "49\n",
            "64\n",
            "81\n",
            "100\n"
          ]
        }
      ]
    },
    {
      "cell_type": "markdown",
      "source": [
        "# 10 - Estudo de caso 01"
      ],
      "metadata": {
        "id": "_vJUEjo_6mWX"
      }
    },
    {
      "cell_type": "code",
      "source": [
        "'''\n",
        "Contexto:\n",
        "Uma empresa precisa registrar informações sobre seus clientes e calcular o IMC\n",
        "(Índice de Massa Corporal) de cada um deles. As informações devem ser\n",
        "armazenadas em um dicionário e exibidas ao final.\n",
        "'''\n",
        "\n",
        "\n",
        "'''\n",
        "Requisitos:\n",
        "Peça ao usuário para inserir os seguintes dados de um cliente:\n",
        "Nome\n",
        "Idade\n",
        "Peso (em kg)\n",
        "Altura (em metros)\n",
        "E-mail\n",
        "Armazene essas informações em um dicionário.\n",
        "Calcule o IMC do cliente (IMC = Peso / (Altura * Altura)) e adicione esse valor ao dicionário.\n",
        "Exiba todas as informações do cliente, incluindo o IMC arredondado para duas casas decimais.\n",
        "\n",
        "'''"
      ],
      "metadata": {
        "id": "llIsNhsG6l_z"
      },
      "execution_count": null,
      "outputs": []
    },
    {
      "cell_type": "code",
      "source": [
        "cliente = {}\n",
        "for c in range(1):\n",
        "    cliente['nome'] = input('Qual é o seu nome? ')\n",
        "    cliente['idade'] = input('Qual é sua idade? ')\n",
        "    cliente['peso'] = float(input('Qual é o seu peso? '))\n",
        "    cliente['altura'] = float(input('Qual a altura? '))\n",
        "    cliente['email'] = input('Qual é o seu email? ')\n",
        "    cliente['imc'] = round(cliente['peso']/(cliente['altura'] * cliente['altura']),2)\n",
        "print(cliente)\n",
        "'''\n",
        "nome = input('Informe o nome: ')\n",
        "idade = float(input('Informe a idade: '))\n",
        "peso = float(input('Informe o peso: '))\n",
        "altura = float(input('Informe a altura: '))\n",
        "email = input('Informe o e-mail: ')\n",
        "imc = peso / altura ** 2\n",
        "cliente = {\n",
        "    'nome':nome,\n",
        "    'idade':idade,\n",
        "    'peso':peso,\n",
        "    'altura':altura,\n",
        "    'e-mail':email,\n",
        "    'imc':round(imc,2)\n",
        "}\n",
        "print(cliente)\n",
        "for k, v in cliente.items(): #percorre chave e valor do dicionário\n",
        "  print(f'{k}:{v}')# percorre chave e valor do dicionário\n",
        "'''\n",
        "\n",
        "'''"
      ],
      "metadata": {
        "colab": {
          "base_uri": "https://localhost:8080/"
        },
        "id": "c06EeeI0TOTF",
        "outputId": "3e3ede6f-d868-4cc2-c8ff-cd504bed3af3"
      },
      "execution_count": null,
      "outputs": [
        {
          "output_type": "stream",
          "name": "stdout",
          "text": [
            "Qual é o seu nome? Nair\n",
            "Qual é sua idade? 27\n",
            "Qual é o seu peso? 70.6\n",
            "Qual a altura? 1.60\n",
            "Qual é o seu email? nair@gmail.com\n",
            "{'nome': 'Nair', 'idade': '27', 'peso': 70.6, 'altura': 1.6, 'email': 'nair@gmail.com', 'imc': 27.58}\n"
          ]
        }
      ]
    },
    {
      "cell_type": "markdown",
      "source": [
        "# 11 - Estudo de Caso 02"
      ],
      "metadata": {
        "id": "_Yi8lRKQ68B3"
      }
    },
    {
      "cell_type": "code",
      "source": [
        "'''\n",
        "Contexto:\n",
        "Uma escola precisa analisar as notas de seus alunos e determinar se cada aluno\n",
        "foi aprovado ou reprovado. As notas serão armazenadas em uma lista e a análise\n",
        "deve ser realizada em um loop.\n",
        "'''\n",
        "\n",
        "'''\n",
        "Requisitos:\n",
        "Peça ao usuário para inserir o nome e a nota de cinco alunos.\n",
        "Armazene os nomes e as notas em listas separadas.\n",
        "Para cada aluno, verifique se a nota é maior ou igual a 60. Se sim, o aluno está\n",
        "aprovado; caso contrário, está reprovado.\n",
        "Exiba uma mensagem para cada aluno informando seu nome, nota e se foi aprovado\n",
        "ou reprovado.\n",
        "'''"
      ],
      "metadata": {
        "id": "mrqCtmjg6_It"
      },
      "execution_count": null,
      "outputs": []
    },
    {
      "cell_type": "code",
      "source": [
        "lista_nome = []\n",
        "lista_nota = []\n",
        "for c in range(5):\n",
        "    nome = input('Informe o nome: ')\n",
        "    nota = float(input('Informe a nota: '))\n",
        "    lista_nome.append(nome)\n",
        "    lista_nota.append(nota)\n",
        "\n",
        "    if nota >= 60:\n",
        "        print(f'{nome} está aprovado com a nota {nota}!')\n",
        "    else:\n",
        "        print(f'{nome} está reprovado com a nota {nota}!')\n",
        "'''\n",
        "nomes = []\n",
        "notas = []\n",
        "for i in range(5):\n",
        "  nomes.append(input(f'Informe o nome do {i+1}º aluno: '))\n",
        "  notas.append(float(input(f'Informe a nota {i+1}º aluno: ')))\n",
        "for i in range(5):\n",
        "  cond = 'Aprovado' if notas[i] >= 60 else 'Reprovado'\n",
        "  print(f'O aluno {nomes[i]} teve nota {notas[i]} e está {cond}')\n",
        "'''\n"
      ],
      "metadata": {
        "colab": {
          "base_uri": "https://localhost:8080/"
        },
        "id": "UL_coOiIWHMT",
        "outputId": "13081dce-f6b0-49b3-c7c3-2a4ac983a60a"
      },
      "execution_count": null,
      "outputs": [
        {
          "output_type": "stream",
          "name": "stdout",
          "text": [
            "Informe o nome: Nair\n",
            "Informe a nota: 100\n",
            "Nair está aprovado com a nota 100.0!\n",
            "Informe o nome: Julia\n",
            "Informe a nota: 30\n",
            "Julia está reprovado com a nota 30.0!\n",
            "Informe o nome: Marcelo\n",
            "Informe a nota: 60\n",
            "Marcelo está aprovado com a nota 60.0!\n",
            "Informe o nome: Leonardo\n",
            "Informe a nota: 70.5\n",
            "Leonardo está aprovado com a nota 70.5!\n",
            "Informe o nome: Caio\n",
            "Informe a nota: 45.7\n",
            "Caio está reprovado com a nota 45.7!\n"
          ]
        }
      ]
    },
    {
      "cell_type": "markdown",
      "source": [
        "# 12 - Estudo de caso 03"
      ],
      "metadata": {
        "id": "DoDAFqG37QWG"
      }
    },
    {
      "cell_type": "code",
      "source": [
        "'''\n",
        "Contexto\n",
        "Uma empresa deseja realizar uma pesquisa de opinião com cinco participantes\n",
        "sobre um novo produto. As respostas devem ser armazenadas e analisadas para\n",
        "verificar a satisfação dos clientes.\n",
        "'''\n",
        "\n",
        "'''\n",
        "Requisitos\n",
        "Peça ao usuário para inserir o nome e a opinião (satisfeito/insatisfeito) de\n",
        "cinco participantes.\n",
        "Armazene os nomes e as opiniões em um dicionário.\n",
        "Conte o número de participantes satisfeitos e insatisfeitos.\n",
        "Exiba a lista de participantes satisfeitos e insatisfeitos, bem como o número\n",
        "total de cada categoria.\n",
        "'''"
      ],
      "metadata": {
        "id": "34JqxL0B7Tvj"
      },
      "execution_count": null,
      "outputs": []
    },
    {
      "cell_type": "code",
      "source": [
        "opiniao = {}\n",
        "i=0\n",
        "c=0\n",
        "n=0\n",
        "for c in range(5):\n",
        "  nome = input('Informe o nome: ')\n",
        "  opiniao[nome] = input('Informe a opinião sendo satisfeito ou insatisfeito: ').lower()\n",
        "  if opiniao[nome] == 'satisfeito':\n",
        "    print(f'{nome} está satisfeito!')\n",
        "    i += 1\n",
        "  else:\n",
        "    print(f'{nome} está insatisfeito!')\n",
        "    n += 1\n",
        "print(f'Total de participantes satisfeitos: {i}')\n",
        "print(\"Participantes satisfeitos:\")\n",
        "for nome, opiniao_participante in opiniao.items():\n",
        "    if opiniao_participante == 'satisfeito':\n",
        "        print(nome)\n",
        "print(f'Total de participantes insatisfeitos: {n}')\n",
        "print(\"Participantes insatisfeitos:\")\n",
        "for nome, opiniao_participante in opiniao.items():\n",
        "    if opiniao_participante == 'insatisfeito':\n",
        "        print(nome)\n",
        "\n",
        "'''\n",
        "pesquisa = {}\n",
        "for i in range(5):\n",
        "  nome = input(f'Informe o nome do {i+1}º participante: ')\n",
        "  opiniao = input(f'Informe a opinião (satisfeito ou insatisfeito) do {i+1}º participante: ').lower()\n",
        "  pesquisa[nome] = opiniao\n",
        "satisfeitos = []\n",
        "insatisfeitos = []\n",
        "for nome, opiniao in pesquisa.items():\n",
        "  if opiniao == 'satisfeito':\n",
        "    satisfeitos.append(nome)\n",
        "  elif opiniao == 'insatisfeito':\n",
        "    insatisfeitos.append(nome)\n",
        "print('\\nParticipantes Satisfeitos: ')\n",
        "for nome in satisfeitos:\n",
        "  print(nome)\n",
        "print(f'\\nTotal de Participantes satisfeitos {len(staisfeitos)}')\n",
        "print('\\nParticipantes Insatisfeitos: ')\n",
        "for nome in insatisfeitos:\n",
        "  print(nome)\n",
        "'''"
      ],
      "metadata": {
        "colab": {
          "base_uri": "https://localhost:8080/"
        },
        "id": "bcBbM-4XcvFI",
        "outputId": "e46a96ef-e4b1-4db7-ca70-c29622bcac3d"
      },
      "execution_count": null,
      "outputs": [
        {
          "output_type": "stream",
          "name": "stdout",
          "text": [
            "Informe o nome: Nair\n",
            "Informe a opinião sendo satisfeito ou insatisfeito: satisfeito\n",
            "Nair está satisfeito!\n",
            "Informe o nome: Bruno\n",
            "Informe a opinião sendo satisfeito ou insatisfeito: Insatisfeito\n",
            "Bruno está insatisfeito!\n",
            "Informe o nome: Julio\n",
            "Informe a opinião sendo satisfeito ou insatisfeito: Satisfeito\n",
            "Julio está satisfeito!\n",
            "Informe o nome: Caio\n",
            "Informe a opinião sendo satisfeito ou insatisfeito: Insatisfeito\n",
            "Caio está insatisfeito!\n",
            "Informe o nome: Lidia\n",
            "Informe a opinião sendo satisfeito ou insatisfeito: satisfeito\n",
            "Lidia está satisfeito!\n",
            "Total de participantes satisfeitos: 3\n",
            "Participantes satisfeitos:\n",
            "Nair\n",
            "Julio\n",
            "Lidia\n",
            "Total de participantes insatisfeitos: 2\n",
            "Participantes insatisfeitos:\n",
            "Bruno\n",
            "Caio\n"
          ]
        }
      ]
    }
  ]
}