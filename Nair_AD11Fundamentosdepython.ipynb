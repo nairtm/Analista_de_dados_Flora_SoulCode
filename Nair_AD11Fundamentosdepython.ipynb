{
  "nbformat": 4,
  "nbformat_minor": 0,
  "metadata": {
    "colab": {
      "provenance": [],
      "toc_visible": true,
      "authorship_tag": "ABX9TyOVoxnh84aB1lTe1wyEZ4ZN",
      "include_colab_link": true
    },
    "kernelspec": {
      "name": "python3",
      "display_name": "Python 3"
    },
    "language_info": {
      "name": "python"
    }
  },
  "cells": [
    {
      "cell_type": "markdown",
      "metadata": {
        "id": "view-in-github",
        "colab_type": "text"
      },
      "source": [
        "<a href=\"https://colab.research.google.com/github/nairtm/Analista_de_dados_Flora_SoulCode/blob/main/Nair_AD11Fundamentosdepython.ipynb\" target=\"_parent\"><img src=\"https://colab.research.google.com/assets/colab-badge.svg\" alt=\"Open In Colab\"/></a>"
      ]
    },
    {
      "cell_type": "markdown",
      "source": [
        "#1. VARIÁVEIS E TIPOS DE DADOS"
      ],
      "metadata": {
        "id": "vhT-fmVnTTNc"
      }
    },
    {
      "cell_type": "code",
      "execution_count": null,
      "metadata": {
        "id": "VrUVuHu3QNsA"
      },
      "outputs": [],
      "source": [
        "'''\n",
        "Variáveis:\n",
        "'''\n",
        "cliente = 'Douglas' #nesta linha criamos a variável cliente e armazenamos o nome mais bonito"
      ]
    },
    {
      "cell_type": "code",
      "source": [
        "# exibindo o valor de uma variável\n",
        "print(cliente)"
      ],
      "metadata": {
        "colab": {
          "base_uri": "https://localhost:8080/"
        },
        "id": "NoVCkG3JVgLm",
        "outputId": "4a4302a2-0699-468b-f563-96e7fa6937a2"
      },
      "execution_count": null,
      "outputs": [
        {
          "output_type": "stream",
          "name": "stdout",
          "text": [
            "Douglas\n"
          ]
        }
      ]
    },
    {
      "cell_type": "code",
      "source": [
        "# Verificar o tipo de dado armazenado\n",
        "type(cliente)"
      ],
      "metadata": {
        "colab": {
          "base_uri": "https://localhost:8080/"
        },
        "id": "YSIvKmvPV7Mh",
        "outputId": "f78abb7c-4d7c-4654-baf6-cd7e027e4767"
      },
      "execution_count": null,
      "outputs": [
        {
          "output_type": "execute_result",
          "data": {
            "text/plain": [
              "str"
            ]
          },
          "metadata": {},
          "execution_count": 3
        }
      ]
    },
    {
      "cell_type": "code",
      "source": [
        "peso = 87\n",
        "type(peso)"
      ],
      "metadata": {
        "colab": {
          "base_uri": "https://localhost:8080/"
        },
        "id": "HVKA73KiYPdv",
        "outputId": "90544cfc-af91-468e-e59e-11fb1bdf2fe7"
      },
      "execution_count": null,
      "outputs": [
        {
          "output_type": "execute_result",
          "data": {
            "text/plain": [
              "int"
            ]
          },
          "metadata": {},
          "execution_count": 4
        }
      ]
    },
    {
      "cell_type": "code",
      "source": [
        "peso = '87'\n",
        "type(peso)"
      ],
      "metadata": {
        "colab": {
          "base_uri": "https://localhost:8080/"
        },
        "id": "E_CncyGxYhUP",
        "outputId": "fe7ff43d-10df-4fcf-dafc-2bb5f468d076"
      },
      "execution_count": null,
      "outputs": [
        {
          "output_type": "execute_result",
          "data": {
            "text/plain": [
              "str"
            ]
          },
          "metadata": {},
          "execution_count": 5
        }
      ]
    },
    {
      "cell_type": "code",
      "source": [
        "altura = 1.85\n",
        "type(altura)"
      ],
      "metadata": {
        "colab": {
          "base_uri": "https://localhost:8080/"
        },
        "id": "VzdXY7PMYwS0",
        "outputId": "689ff589-c367-4630-8b9a-ab6ba1c93fa6"
      },
      "execution_count": null,
      "outputs": [
        {
          "output_type": "execute_result",
          "data": {
            "text/plain": [
              "float"
            ]
          },
          "metadata": {},
          "execution_count": 6
        }
      ]
    },
    {
      "cell_type": "markdown",
      "source": [
        "##2. OPERADORES MATEMÁTICOS"
      ],
      "metadata": {
        "id": "dxLb95lzZAFR"
      }
    },
    {
      "cell_type": "code",
      "source": [
        "# Nesse caso ira concatenar porque é string\n",
        "soma = '3' + '2'\n",
        "print(soma)"
      ],
      "metadata": {
        "colab": {
          "base_uri": "https://localhost:8080/"
        },
        "id": "Tih0A6H3ZFAr",
        "outputId": "63e733ee-9a34-44cd-a39b-41016ace5a1d"
      },
      "execution_count": null,
      "outputs": [
        {
          "output_type": "stream",
          "name": "stdout",
          "text": [
            "32\n"
          ]
        }
      ]
    },
    {
      "cell_type": "code",
      "source": [
        "# Soma (+)\n",
        "soma = 3 + 2\n",
        "print(soma)"
      ],
      "metadata": {
        "colab": {
          "base_uri": "https://localhost:8080/"
        },
        "id": "B_urY7AbZ3mj",
        "outputId": "e0ed6025-8485-481d-bf35-67f28a772752"
      },
      "execution_count": null,
      "outputs": [
        {
          "output_type": "stream",
          "name": "stdout",
          "text": [
            "5\n"
          ]
        }
      ]
    },
    {
      "cell_type": "code",
      "source": [
        "# Subtração (-)\n",
        "sub = 3 - 2\n",
        "print(sub)"
      ],
      "metadata": {
        "colab": {
          "base_uri": "https://localhost:8080/"
        },
        "id": "YYUEk9mfZ7cZ",
        "outputId": "c3b2b72a-ead7-4e75-e2ca-20a2dc6ecf64"
      },
      "execution_count": null,
      "outputs": [
        {
          "output_type": "stream",
          "name": "stdout",
          "text": [
            "1\n"
          ]
        }
      ]
    },
    {
      "cell_type": "code",
      "source": [
        "#Multiplicação (*)\n",
        "mult = 3 * 2\n",
        "print(mult)"
      ],
      "metadata": {
        "colab": {
          "base_uri": "https://localhost:8080/"
        },
        "id": "YZqOpkxYaERb",
        "outputId": "de11b89b-97f4-4584-9d84-6cb0ef1ceb0d"
      },
      "execution_count": null,
      "outputs": [
        {
          "output_type": "stream",
          "name": "stdout",
          "text": [
            "6\n"
          ]
        }
      ]
    },
    {
      "cell_type": "code",
      "source": [
        "# Divisão (/)\n",
        "div = 3 / 2\n",
        "print(div)"
      ],
      "metadata": {
        "colab": {
          "base_uri": "https://localhost:8080/"
        },
        "id": "B9menjTJa8qm",
        "outputId": "a24bb18b-f62c-464e-ddbc-4170383b893f"
      },
      "execution_count": null,
      "outputs": [
        {
          "output_type": "stream",
          "name": "stdout",
          "text": [
            "1.5\n"
          ]
        }
      ]
    },
    {
      "cell_type": "code",
      "source": [
        "# Parte inteira da Divisão (//)\n",
        "int_div = 3//2\n",
        "print(int_div)"
      ],
      "metadata": {
        "colab": {
          "base_uri": "https://localhost:8080/"
        },
        "id": "-5etJ0r4bXGa",
        "outputId": "e3a180a2-8306-4a0d-bd8c-845c7308679a"
      },
      "execution_count": null,
      "outputs": [
        {
          "output_type": "stream",
          "name": "stdout",
          "text": [
            "1\n"
          ]
        }
      ]
    },
    {
      "cell_type": "code",
      "source": [
        "#resto da divisão (%)\n",
        "resto = 3 % 2\n",
        "print(resto)"
      ],
      "metadata": {
        "colab": {
          "base_uri": "https://localhost:8080/"
        },
        "id": "aw5CB5vvbjGR",
        "outputId": "9c53e549-a366-4cd8-b9e9-8bccbdd475e6"
      },
      "execution_count": null,
      "outputs": [
        {
          "output_type": "stream",
          "name": "stdout",
          "text": [
            "1\n"
          ]
        }
      ]
    },
    {
      "cell_type": "code",
      "source": [
        "# Potenciação (**)\n",
        "potencia = 3 ** 2\n",
        "print(potencia)"
      ],
      "metadata": {
        "colab": {
          "base_uri": "https://localhost:8080/"
        },
        "id": "TDxj57JNbt4M",
        "outputId": "e17ea70a-82ec-4ee5-b011-b62f2adc4ab2"
      },
      "execution_count": null,
      "outputs": [
        {
          "output_type": "stream",
          "name": "stdout",
          "text": [
            "9\n"
          ]
        }
      ]
    },
    {
      "cell_type": "markdown",
      "source": [
        "##3. Strings"
      ],
      "metadata": {
        "id": "aIjgDdWqfC7G"
      }
    },
    {
      "cell_type": "code",
      "source": [
        "# Formatação de strings(f-string)\n",
        "cliente = 'Douglas'\n",
        "print(cliente)"
      ],
      "metadata": {
        "colab": {
          "base_uri": "https://localhost:8080/"
        },
        "id": "w613XuaifGsH",
        "outputId": "5d127081-5378-4e69-e010-2830d1c15653"
      },
      "execution_count": null,
      "outputs": [
        {
          "output_type": "stream",
          "name": "stdout",
          "text": [
            "Douglas\n"
          ]
        }
      ]
    },
    {
      "cell_type": "code",
      "source": [
        "# Formatação de strings(f-string)\n",
        "cliente = 'Douglas'\n",
        "print(f'o nome do cliente é: {cliente}')"
      ],
      "metadata": {
        "colab": {
          "base_uri": "https://localhost:8080/"
        },
        "id": "4B-FCRANfc5R",
        "outputId": "c0e6fc58-2caf-4162-851d-aae0c79c9692"
      },
      "execution_count": null,
      "outputs": [
        {
          "output_type": "stream",
          "name": "stdout",
          "text": [
            "o nome do cliente é: Douglas\n"
          ]
        }
      ]
    },
    {
      "cell_type": "code",
      "source": [
        "# Receber uma informação do usuário\n",
        "# input só guarda uma string por isso dá erro no cálculo do imc\n",
        "peso = float (input('Informe seu peso em Kg: '))\n",
        "altura = float (input('Informe sua altura em metros: '))\n",
        "print(peso)\n",
        "print(altura)\n",
        "imc = peso / altura ** 2\n",
        "print(f'{imc:.2f}') # arrendonda a exibição só com duas casas decimais"
      ],
      "metadata": {
        "colab": {
          "base_uri": "https://localhost:8080/"
        },
        "id": "Wo6g_dTGf1dY",
        "outputId": "7cc4743a-c8b4-4107-aba9-a07d3f69b439"
      },
      "execution_count": null,
      "outputs": [
        {
          "output_type": "stream",
          "name": "stdout",
          "text": [
            "Informe seu peso em Kg: 87\n",
            "Informe sua altura em metros: 1.85\n",
            "87.0\n",
            "1.85\n",
            "25.42\n"
          ]
        }
      ]
    },
    {
      "cell_type": "code",
      "source": [
        "'''\n",
        "É uma boa prática arrendondar a exibição ao invés do armazenamento\n",
        "'''\n",
        "print(round(imc,2))\n"
      ],
      "metadata": {
        "colab": {
          "base_uri": "https://localhost:8080/"
        },
        "id": "zKDOVcwAkTrR",
        "outputId": "84fe7102-cb13-4cdd-dbab-8be2a0c9de63"
      },
      "execution_count": null,
      "outputs": [
        {
          "output_type": "stream",
          "name": "stdout",
          "text": [
            "25.42\n"
          ]
        }
      ]
    },
    {
      "cell_type": "code",
      "source": [
        "email= 'doug@gmail.com'\n",
        "# Indexação de strings\n",
        "# 0    1   2   3   4   5  6  7  8  9 10 11 12 13 (índice)\n",
        "# -14 -13 -12 -11 -10 -9 -8 -7 -6 -5 -4 -3 -2 -1 (índice reverso)\n",
        "# 1º 2º 3º 4º 5º 6º 7º 8º 9º 10º 11º 12º 13º 14º (ordinal)\n",
        "# d  o  u  g  @  g  m  a  i   l   .   c   o   m"
      ],
      "metadata": {
        "id": "t39UZx0Qk4hS"
      },
      "execution_count": null,
      "outputs": []
    },
    {
      "cell_type": "code",
      "source": [
        "# Exibindo o primeiro caracter da string\n",
        "email[0]\n",
        "letra1 = email[0]\n",
        "print(letra1)"
      ],
      "metadata": {
        "colab": {
          "base_uri": "https://localhost:8080/"
        },
        "id": "ccggMdrClprH",
        "outputId": "bb710689-3986-43e4-efff-027b02f2b1e8"
      },
      "execution_count": null,
      "outputs": [
        {
          "output_type": "stream",
          "name": "stdout",
          "text": [
            "d\n"
          ]
        }
      ]
    },
    {
      "cell_type": "code",
      "source": [
        "'''\n",
        "Imagine que você deseja fatiar uma string exibindo do primeiro ao último caracter\n",
        "'''\n",
        "print(email[0:14]) #se colocar 13 ira aparecer doug@gmail.co, então tem que incluir o 13 coloca uma a mais\n",
        "# inicio(0) inclusive e final(14) exclusivo"
      ],
      "metadata": {
        "colab": {
          "base_uri": "https://localhost:8080/"
        },
        "id": "E9dJvTnwm1WH",
        "outputId": "d01f4dc3-19a1-4bc6-c395-273f3ce1f711"
      },
      "execution_count": null,
      "outputs": [
        {
          "output_type": "stream",
          "name": "stdout",
          "text": [
            "doug@gmail.com\n"
          ]
        }
      ]
    },
    {
      "cell_type": "code",
      "source": [
        "# Exibindo o último caracter de uma string com tamanho desconhecido\n",
        "print(email[-1])"
      ],
      "metadata": {
        "colab": {
          "base_uri": "https://localhost:8080/"
        },
        "id": "x1JgsNSyoezY",
        "outputId": "8a281241-c630-41b1-b12e-b081a16dbeaf"
      },
      "execution_count": null,
      "outputs": [
        {
          "output_type": "stream",
          "name": "stdout",
          "text": [
            "m\n"
          ]
        }
      ]
    },
    {
      "cell_type": "code",
      "source": [
        "# Fatiamento de um intervalo com passos (saltos)\n",
        "'''\n",
        "Imagine que você deseja criar uma visualização de todos os caracteres\n",
        "com passo igual a 2\n",
        "'''\n",
        "print(email[::2]) #[inicio:fim (exclusive):passo(de quanto em quanto)]"
      ],
      "metadata": {
        "colab": {
          "base_uri": "https://localhost:8080/"
        },
        "id": "EB7ciapCpKLn",
        "outputId": "8ae02338-4b8c-4708-f95d-ff00ea2669fa"
      },
      "execution_count": null,
      "outputs": [
        {
          "output_type": "stream",
          "name": "stdout",
          "text": [
            "du@mi.o\n"
          ]
        }
      ]
    },
    {
      "cell_type": "code",
      "source": [
        "# Fatiamento de um intervalo com passos (saltos)\n",
        "'''\n",
        "Imagine que você deseja criar uma visualização de todos os caracteres\n",
        "com passo igual a 2\n",
        "'''\n",
        "print(email[4:13:2]) #[inicio:fim (exclusive):passo(de quanto em quanto)]"
      ],
      "metadata": {
        "colab": {
          "base_uri": "https://localhost:8080/"
        },
        "id": "rP74wYeorRB9",
        "outputId": "dc3a4196-2f2f-4716-ed06-ed543fd53837"
      },
      "execution_count": null,
      "outputs": [
        {
          "output_type": "stream",
          "name": "stdout",
          "text": [
            "@mi.o\n"
          ]
        }
      ]
    },
    {
      "cell_type": "code",
      "source": [
        "#Função para contar a quantidade de caracteres de uma string\n",
        "len(email)"
      ],
      "metadata": {
        "colab": {
          "base_uri": "https://localhost:8080/"
        },
        "id": "8AMSussasIhS",
        "outputId": "09b29471-08cf-4c90-9c2e-e68c7af4a014"
      },
      "execution_count": null,
      "outputs": [
        {
          "output_type": "execute_result",
          "data": {
            "text/plain": [
              "14"
            ]
          },
          "metadata": {},
          "execution_count": 51
        }
      ]
    },
    {
      "cell_type": "code",
      "source": [
        "# Operador IN (Verifica a presença de um determinado caracter em uma string)\n",
        "cliente = 'Douglas'\n",
        "print('D' in cliente)"
      ],
      "metadata": {
        "colab": {
          "base_uri": "https://localhost:8080/"
        },
        "id": "vCSSfuWburhd",
        "outputId": "56912c09-2b3e-43a5-f992-2a3b9db2d7bb"
      },
      "execution_count": null,
      "outputs": [
        {
          "output_type": "stream",
          "name": "stdout",
          "text": [
            "True\n"
          ]
        }
      ]
    },
    {
      "cell_type": "code",
      "source": [
        "'d' in cliente"
      ],
      "metadata": {
        "colab": {
          "base_uri": "https://localhost:8080/"
        },
        "id": "qw-zS_w6vGky",
        "outputId": "140b4d01-9547-475f-b818-f1e5627efec4"
      },
      "execution_count": null,
      "outputs": [
        {
          "output_type": "execute_result",
          "data": {
            "text/plain": [
              "False"
            ]
          },
          "metadata": {},
          "execution_count": 53
        }
      ]
    },
    {
      "cell_type": "code",
      "source": [
        "# Operador NOT IN (Verifica a presença de um dcaracter em uma string)\n",
        "cliente = 'Douglas'\n",
        "print('D' not in cliente)"
      ],
      "metadata": {
        "colab": {
          "base_uri": "https://localhost:8080/"
        },
        "id": "PRno0zEkvNKs",
        "outputId": "b37f3e23-7a8a-4dda-8647-168986f78b68"
      },
      "execution_count": null,
      "outputs": [
        {
          "output_type": "stream",
          "name": "stdout",
          "text": [
            "False\n"
          ]
        }
      ]
    },
    {
      "cell_type": "code",
      "source": [
        "'d' not in cliente"
      ],
      "metadata": {
        "colab": {
          "base_uri": "https://localhost:8080/"
        },
        "id": "-bs_qniEvhNw",
        "outputId": "5d658496-1235-41ef-c503-c482f8d5edca"
      },
      "execution_count": null,
      "outputs": [
        {
          "output_type": "execute_result",
          "data": {
            "text/plain": [
              "True"
            ]
          },
          "metadata": {},
          "execution_count": 55
        }
      ]
    },
    {
      "cell_type": "code",
      "source": [
        "# Convertendo em caixa alta a primeira letra de uma string\n",
        "nome = 'douglas ribeiro'\n",
        "nome = nome.capitalize()\n",
        "print(nome)"
      ],
      "metadata": {
        "colab": {
          "base_uri": "https://localhost:8080/"
        },
        "id": "_L4e9b_ivkao",
        "outputId": "8d5ef2a5-6046-4ada-a17f-722ca562c8a8"
      },
      "execution_count": null,
      "outputs": [
        {
          "output_type": "stream",
          "name": "stdout",
          "text": [
            "Douglas ribeiro\n"
          ]
        }
      ]
    },
    {
      "cell_type": "code",
      "source": [
        "nome_completo = 'douglas almeida ribeiro'\n",
        "nome_completo = nome_completo.title()\n",
        "print(nome_completo)"
      ],
      "metadata": {
        "colab": {
          "base_uri": "https://localhost:8080/"
        },
        "id": "hgvDNGqowCSi",
        "outputId": "c724426c-ddb5-4d70-bae3-a5e36553ba9d"
      },
      "execution_count": null,
      "outputs": [
        {
          "output_type": "stream",
          "name": "stdout",
          "text": [
            "Douglas Almeida Ribeiro\n"
          ]
        }
      ]
    },
    {
      "cell_type": "code",
      "source": [
        "# Método upper deixa todas as letras em caixa alta\n",
        "nome = 'douglas'\n",
        "print(nome)\n",
        "nome = nome.upper()\n",
        "print(nome)\n",
        "print(nome.lower())"
      ],
      "metadata": {
        "colab": {
          "base_uri": "https://localhost:8080/"
        },
        "id": "NtAmfzXvxOLb",
        "outputId": "e261458b-4da2-49da-fef8-2c0f5630a655"
      },
      "execution_count": null,
      "outputs": [
        {
          "output_type": "stream",
          "name": "stdout",
          "text": [
            "douglas\n",
            "DOUGLAS\n",
            "douglas\n"
          ]
        }
      ]
    },
    {
      "cell_type": "code",
      "source": [
        "# Contando quantas vezes um caracter aparece em uma string\n",
        "nome = 'ANA'\n",
        "nome.count('A')"
      ],
      "metadata": {
        "colab": {
          "base_uri": "https://localhost:8080/"
        },
        "id": "MkSBjziCyF1z",
        "outputId": "f3986143-8cf1-4ce9-c543-8a4c9cd30c59"
      },
      "execution_count": null,
      "outputs": [
        {
          "output_type": "execute_result",
          "data": {
            "text/plain": [
              "2"
            ]
          },
          "metadata": {},
          "execution_count": 64
        }
      ]
    },
    {
      "cell_type": "code",
      "source": [
        "# Descobrindo o índice da primeira correspondência encontrada\n",
        "email = 'doug@gmail.com'\n",
        "email.find('o')\n",
        "# precisa fazer um loop para encontrar mais de uma letra 'o'"
      ],
      "metadata": {
        "colab": {
          "base_uri": "https://localhost:8080/"
        },
        "id": "XZsqkqqRyjGW",
        "outputId": "b3ae5dca-9ac9-49f1-fbd0-bd9db94fd00a"
      },
      "execution_count": null,
      "outputs": [
        {
          "output_type": "execute_result",
          "data": {
            "text/plain": [
              "1"
            ]
          },
          "metadata": {},
          "execution_count": 65
        }
      ]
    },
    {
      "cell_type": "code",
      "source": [
        "# Método para remover espaços indesejados\n",
        "nome = ' Douglas  '\n",
        "len(nome)\n",
        "nome = nome.strip()\n",
        "len(nome)"
      ],
      "metadata": {
        "colab": {
          "base_uri": "https://localhost:8080/"
        },
        "id": "FIwdneQnztj5",
        "outputId": "2cdf4902-2adf-43a0-f374-82bf9d786f44"
      },
      "execution_count": null,
      "outputs": [
        {
          "output_type": "execute_result",
          "data": {
            "text/plain": [
              "7"
            ]
          },
          "metadata": {},
          "execution_count": 70
        }
      ]
    },
    {
      "cell_type": "code",
      "source": [
        "# Método para substituir um carcater por outro\n",
        "custo = 'R$10.50'\n",
        "custo = custo.replace('.', ',')\n",
        "print(custo)"
      ],
      "metadata": {
        "colab": {
          "base_uri": "https://localhost:8080/"
        },
        "id": "Y9hjWkTh0tZh",
        "outputId": "b0b735a8-6acd-4448-bdc3-54798fbfb415"
      },
      "execution_count": null,
      "outputs": [
        {
          "output_type": "stream",
          "name": "stdout",
          "text": [
            "R$10,50\n"
          ]
        }
      ]
    },
    {
      "cell_type": "code",
      "source": [
        "'''\n",
        "Imagine que você deseja criar um script que receba do usuário n nomes e os\n",
        "armazene separadamente em uma única variável\n",
        "'''\n",
        "nomes = input('Informe os nomes dos convidados separados por espaços: ')\n",
        "\n",
        "print(nomes)\n",
        "print(type(nomes))"
      ],
      "metadata": {
        "colab": {
          "base_uri": "https://localhost:8080/"
        },
        "id": "5uPAYEvA2P7e",
        "outputId": "fd6a5f15-7d68-4244-d260-6feece36e12c"
      },
      "execution_count": null,
      "outputs": [
        {
          "output_type": "stream",
          "name": "stdout",
          "text": [
            "Informe os nomes dos convidados separados por espaços: Douglas Maria Julia Renan\n",
            "Douglas Maria Julia Renan\n",
            "<class 'str'>\n"
          ]
        }
      ]
    },
    {
      "cell_type": "code",
      "source": [
        "nome = nomes.split()\n",
        "print(nome)\n",
        "print(type(nome))"
      ],
      "metadata": {
        "colab": {
          "base_uri": "https://localhost:8080/"
        },
        "id": "u-LCQyRN3O6h",
        "outputId": "76c3d9fc-50bf-48d0-f3f6-14dda3b0f1bd"
      },
      "execution_count": null,
      "outputs": [
        {
          "output_type": "stream",
          "name": "stdout",
          "text": [
            "['Douglas', 'Maria', 'Julia', 'Renan']\n",
            "<class 'list'>\n"
          ]
        }
      ]
    },
    {
      "cell_type": "markdown",
      "source": [
        "#4. Estruturas de Dados\n"
      ],
      "metadata": {
        "id": "QkFC55J3Hr2N"
      }
    },
    {
      "cell_type": "markdown",
      "source": [
        "#4.1 Tuplas"
      ],
      "metadata": {
        "id": "F32ZEcgOHw5I"
      }
    },
    {
      "cell_type": "code",
      "source": [
        "clientes = ('Douglas', 'Daniela', 'Eduardo')\n",
        "print(clientes)\n",
        "print(type(clientes))"
      ],
      "metadata": {
        "colab": {
          "base_uri": "https://localhost:8080/"
        },
        "id": "P8S0fEbRIEux",
        "outputId": "4bd2fe65-8e37-4660-c69d-6161da8d2bda"
      },
      "execution_count": null,
      "outputs": [
        {
          "output_type": "stream",
          "name": "stdout",
          "text": [
            "('Douglas', 'Daniela', 'Eduardo')\n",
            "<class 'tuple'>\n"
          ]
        }
      ]
    },
    {
      "cell_type": "code",
      "source": [
        "# As tuplas são indexadas (podemos fatiar a tupla)\n",
        "clientes[1][2]\n",
        "#posição da tupla e posição da letra da tupla"
      ],
      "metadata": {
        "colab": {
          "base_uri": "https://localhost:8080/",
          "height": 35
        },
        "id": "W-YsdtbjJGM7",
        "outputId": "a1718ab5-9b7f-4c99-aa48-1a6bcd844747"
      },
      "execution_count": null,
      "outputs": [
        {
          "output_type": "execute_result",
          "data": {
            "text/plain": [
              "'n'"
            ],
            "application/vnd.google.colaboratory.intrinsic+json": {
              "type": "string"
            }
          },
          "metadata": {},
          "execution_count": 7
        }
      ]
    },
    {
      "cell_type": "code",
      "source": [
        "clientes[2]\n",
        "#posição da tupla e posição da letra da tupla"
      ],
      "metadata": {
        "colab": {
          "base_uri": "https://localhost:8080/",
          "height": 35
        },
        "id": "cqcprJqPJp1s",
        "outputId": "dac0f7a7-b81e-4e57-f622-78601fb19c9d"
      },
      "execution_count": null,
      "outputs": [
        {
          "output_type": "execute_result",
          "data": {
            "text/plain": [
              "'Eduardo'"
            ],
            "application/vnd.google.colaboratory.intrinsic+json": {
              "type": "string"
            }
          },
          "metadata": {},
          "execution_count": 10
        }
      ]
    },
    {
      "cell_type": "code",
      "source": [
        "# Verificando o tipo de objeto\n",
        "type(clientes)"
      ],
      "metadata": {
        "colab": {
          "base_uri": "https://localhost:8080/"
        },
        "id": "gUqFOSVbKEWH",
        "outputId": "da750db4-7d88-4524-ea24-fb41cb08835b"
      },
      "execution_count": null,
      "outputs": [
        {
          "output_type": "execute_result",
          "data": {
            "text/plain": [
              "tuple"
            ]
          },
          "metadata": {},
          "execution_count": 11
        }
      ]
    },
    {
      "cell_type": "code",
      "source": [
        "# Convertendo um objeto em uma tupla. TUPLAS SÃO IMUTÁVEIS\n",
        "notas = [8, 10, 5]\n",
        "print(type(notas))\n",
        "notas = tuple(notas)\n",
        "print(type(notas))\n",
        "notas = list(notas)\n",
        "print(type(notas))"
      ],
      "metadata": {
        "colab": {
          "base_uri": "https://localhost:8080/"
        },
        "id": "SiRecoSLK0st",
        "outputId": "b0fc9ed5-b453-4cfc-f1df-04e3f45d8918"
      },
      "execution_count": null,
      "outputs": [
        {
          "output_type": "stream",
          "name": "stdout",
          "text": [
            "<class 'list'>\n",
            "<class 'tuple'>\n",
            "<class 'list'>\n"
          ]
        }
      ]
    },
    {
      "cell_type": "markdown",
      "source": [
        "#4.2 Listas"
      ],
      "metadata": {
        "id": "MSkeM50mND6t"
      }
    },
    {
      "cell_type": "code",
      "source": [
        "# As listas são mutáveis (diferente das tuplas que são imutáveis)\n",
        "idade = [48,9] # também posso deixar []\n",
        "print(type(idade))"
      ],
      "metadata": {
        "colab": {
          "base_uri": "https://localhost:8080/"
        },
        "id": "Vmdx08KnNJHe",
        "outputId": "2174f61d-fd3c-47ec-c6c5-b55b8826f19b"
      },
      "execution_count": null,
      "outputs": [
        {
          "output_type": "stream",
          "name": "stdout",
          "text": [
            "<class 'list'>\n"
          ]
        }
      ]
    },
    {
      "cell_type": "code",
      "source": [
        "# Acessando os valores de uma lista\n",
        "print(notas[0])\n",
        "clientes = list(clientes)\n",
        "clientes [0][0]"
      ],
      "metadata": {
        "colab": {
          "base_uri": "https://localhost:8080/",
          "height": 52
        },
        "id": "DFCBl4rNNkId",
        "outputId": "d864acc1-5dbe-48fe-d441-ee3b52757a70"
      },
      "execution_count": null,
      "outputs": [
        {
          "output_type": "stream",
          "name": "stdout",
          "text": [
            "8\n"
          ]
        },
        {
          "output_type": "execute_result",
          "data": {
            "text/plain": [
              "'D'"
            ],
            "application/vnd.google.colaboratory.intrinsic+json": {
              "type": "string"
            }
          },
          "metadata": {},
          "execution_count": 25
        }
      ]
    },
    {
      "cell_type": "code",
      "source": [
        "clientes = ['Douglas', ['Eduardo', 'Ester']]\n",
        "clientes[1][0][1] # sai a letra d\n",
        "clientes[1][0]"
      ],
      "metadata": {
        "colab": {
          "base_uri": "https://localhost:8080/",
          "height": 35
        },
        "id": "-LAQy7q4OP2p",
        "outputId": "ce2cfc1b-ad51-41a7-d9c4-09c77aeaf27b"
      },
      "execution_count": null,
      "outputs": [
        {
          "output_type": "execute_result",
          "data": {
            "text/plain": [
              "'Eduardo'"
            ],
            "application/vnd.google.colaboratory.intrinsic+json": {
              "type": "string"
            }
          },
          "metadata": {},
          "execution_count": 49
        }
      ]
    },
    {
      "cell_type": "code",
      "source": [
        "clientes = ['Douglas', ['Eduardo',[ 'Ester', 'Daniela']]]\n",
        "clientes[1]\n",
        "type(clientes[1][1])"
      ],
      "metadata": {
        "colab": {
          "base_uri": "https://localhost:8080/"
        },
        "id": "CAn_BXIARI8U",
        "outputId": "a6837574-74d8-4082-95ba-180a860607e9"
      },
      "execution_count": null,
      "outputs": [
        {
          "output_type": "execute_result",
          "data": {
            "text/plain": [
              "list"
            ]
          },
          "metadata": {},
          "execution_count": 60
        }
      ]
    },
    {
      "cell_type": "code",
      "source": [
        "type(clientes[1][1][0])"
      ],
      "metadata": {
        "colab": {
          "base_uri": "https://localhost:8080/"
        },
        "id": "Ke-083WOR327",
        "outputId": "e59a0b22-9e1f-4376-c1cc-16c08d9b5053"
      },
      "execution_count": null,
      "outputs": [
        {
          "output_type": "execute_result",
          "data": {
            "text/plain": [
              "str"
            ]
          },
          "metadata": {},
          "execution_count": 61
        }
      ]
    },
    {
      "cell_type": "code",
      "source": [
        "print(clientes[1][1][1])"
      ],
      "metadata": {
        "colab": {
          "base_uri": "https://localhost:8080/"
        },
        "id": "fGA0-j2lSLB7",
        "outputId": "cf208994-90a5-47f9-a483-237ef54fe5bb"
      },
      "execution_count": null,
      "outputs": [
        {
          "output_type": "stream",
          "name": "stdout",
          "text": [
            "Daniela\n"
          ]
        }
      ]
    },
    {
      "cell_type": "code",
      "source": [
        "# Operações com listas\n",
        "nomes = ['Douglas', 'Daniela', 'Pedro', 'Maria','Eduardo', 'Ester']\n",
        "print(nomes)"
      ],
      "metadata": {
        "colab": {
          "base_uri": "https://localhost:8080/"
        },
        "id": "wbZa4m6nSMpH",
        "outputId": "62768705-b048-4fe5-cd7b-17b574223c53"
      },
      "execution_count": null,
      "outputs": [
        {
          "output_type": "stream",
          "name": "stdout",
          "text": [
            "['Douglas', 'Daniela', 'Pedro', 'Maria', 'Eduardo', 'Ester']\n"
          ]
        }
      ]
    },
    {
      "cell_type": "code",
      "source": [
        "#Incluir o nome José na última posição da lista\n",
        "nomes.append('José') #por definição o método append acrescente o dado na última posição da lista\n",
        "print(nomes)"
      ],
      "metadata": {
        "colab": {
          "base_uri": "https://localhost:8080/"
        },
        "id": "ocKqzVdmSbwZ",
        "outputId": "7fb84032-fd9b-4745-b186-058551c7975a"
      },
      "execution_count": null,
      "outputs": [
        {
          "output_type": "stream",
          "name": "stdout",
          "text": [
            "['Douglas', 'Daniela', 'Pedro', 'Maria', 'Eduardo', 'Ester', 'José']\n"
          ]
        }
      ]
    },
    {
      "cell_type": "code",
      "source": [
        "'''\n",
        "Vamos supor que desejamos incluir o nome Raul entre Daniela e Pedro\n",
        "'''\n",
        "nomes.insert(2, 'Raul') #insert(posição, valor)\n",
        "print(nomes)\n",
        "# o método insert inclui um elemento em uma posição previamente determinada e \"empurra os\""
      ],
      "metadata": {
        "colab": {
          "base_uri": "https://localhost:8080/"
        },
        "id": "4jaHJzwpXr1P",
        "outputId": "15f693a2-bf4e-4000-85e6-d05711d777f8"
      },
      "execution_count": null,
      "outputs": [
        {
          "output_type": "stream",
          "name": "stdout",
          "text": [
            "['Douglas', 'Daniela', 'Raul', 'Pedro', 'Maria', 'Eduardo', 'Ester', 'José']\n"
          ]
        }
      ]
    },
    {
      "cell_type": "code",
      "source": [
        "'''\n",
        "Imagine que você deseja substituir José por Jonas\n",
        "'''\n",
        "nomes[7] = 'Jonas'\n",
        "print(nomes)"
      ],
      "metadata": {
        "colab": {
          "base_uri": "https://localhost:8080/"
        },
        "id": "7CdvoGe0X_Lc",
        "outputId": "b9321d31-8807-48aa-86a9-6e159668237a"
      },
      "execution_count": null,
      "outputs": [
        {
          "output_type": "stream",
          "name": "stdout",
          "text": [
            "['Douglas', 'Daniela', 'Raul', 'Pedro', 'Maria', 'Eduardo', 'Ester', 'Jonas']\n"
          ]
        }
      ]
    },
    {
      "cell_type": "code",
      "source": [
        "# Descubrindo a posição de Jonas\n",
        "nomes.index('Jonas')"
      ],
      "metadata": {
        "colab": {
          "base_uri": "https://localhost:8080/"
        },
        "id": "_TyNDmf-YQtL",
        "outputId": "918843e6-1d11-4afc-cb74-3bf87727ca23"
      },
      "execution_count": null,
      "outputs": [
        {
          "output_type": "execute_result",
          "data": {
            "text/plain": [
              "7"
            ]
          },
          "metadata": {},
          "execution_count": 73
        }
      ]
    },
    {
      "cell_type": "code",
      "source": [
        "# Excluindo um registro da lista pelo seu índice (exclusão de Jonas)\n",
        "nomes.pop(7)\n",
        "print(nomes)"
      ],
      "metadata": {
        "colab": {
          "base_uri": "https://localhost:8080/"
        },
        "id": "htjdhbM3YZn1",
        "outputId": "ca623a33-9ae3-4865-d033-73bfbf472d59"
      },
      "execution_count": null,
      "outputs": [
        {
          "output_type": "stream",
          "name": "stdout",
          "text": [
            "['Douglas', 'Daniela', 'Raul', 'Pedro', 'Maria', 'Eduardo', 'Ester']\n"
          ]
        }
      ]
    },
    {
      "cell_type": "code",
      "source": [
        "# Excluindo Raul da lista pelo seu valor\n",
        "nomes.remove('Raul')\n",
        "print(nomes)"
      ],
      "metadata": {
        "colab": {
          "base_uri": "https://localhost:8080/"
        },
        "id": "KhpbND-DZvEC",
        "outputId": "046d9dcc-0f37-4306-9e23-fde74b9765a4"
      },
      "execution_count": null,
      "outputs": [
        {
          "output_type": "stream",
          "name": "stdout",
          "text": [
            "['Douglas', 'Daniela', 'Pedro', 'Maria', 'Eduardo', 'Ester']\n"
          ]
        }
      ]
    },
    {
      "cell_type": "markdown",
      "source": [
        "\n",
        "#4.3. Dicionários\n"
      ],
      "metadata": {
        "id": "ULjVPGGTaFyK"
      }
    },
    {
      "cell_type": "code",
      "source": [
        "carro = {'marca': 'vw','modelo':'gol', 'tipo': 'mec', 'cor':'cinza' }"
      ],
      "metadata": {
        "id": "XqPcjbcOaMad"
      },
      "execution_count": null,
      "outputs": []
    },
    {
      "cell_type": "code",
      "source": [
        "print(carro)"
      ],
      "metadata": {
        "colab": {
          "base_uri": "https://localhost:8080/"
        },
        "id": "GpkYXLwRbVkK",
        "outputId": "6c5d78b6-e862-4575-accb-4ebec62e74bb"
      },
      "execution_count": null,
      "outputs": [
        {
          "output_type": "stream",
          "name": "stdout",
          "text": [
            "{'marca': 'vw', 'modelo': 'gol', 'tipo': 'mec', 'cor': 'cinza'}\n"
          ]
        }
      ]
    },
    {
      "cell_type": "code",
      "source": [
        "type(carro)"
      ],
      "metadata": {
        "colab": {
          "base_uri": "https://localhost:8080/"
        },
        "id": "sBpQILlfa7yb",
        "outputId": "6f196b3e-3e70-4b26-b141-e49764532999"
      },
      "execution_count": null,
      "outputs": [
        {
          "output_type": "execute_result",
          "data": {
            "text/plain": [
              "dict"
            ]
          },
          "metadata": {},
          "execution_count": 77
        }
      ]
    },
    {
      "cell_type": "code",
      "source": [
        "# Acessando dados de um dicionário\n",
        "carro['cor']"
      ],
      "metadata": {
        "colab": {
          "base_uri": "https://localhost:8080/",
          "height": 35
        },
        "id": "tROYjONua_r9",
        "outputId": "3b1d6b89-d0d0-4759-de3f-e75736db5bda"
      },
      "execution_count": null,
      "outputs": [
        {
          "output_type": "execute_result",
          "data": {
            "text/plain": [
              "'cinza'"
            ],
            "application/vnd.google.colaboratory.intrinsic+json": {
              "type": "string"
            }
          },
          "metadata": {},
          "execution_count": 78
        }
      ]
    },
    {
      "cell_type": "code",
      "source": [
        "carro['marca']"
      ],
      "metadata": {
        "colab": {
          "base_uri": "https://localhost:8080/",
          "height": 35
        },
        "id": "p6wTjryWbLHs",
        "outputId": "9c922bc3-568d-4aa8-c68b-57645e9dd823"
      },
      "execution_count": null,
      "outputs": [
        {
          "output_type": "execute_result",
          "data": {
            "text/plain": [
              "'vw'"
            ],
            "application/vnd.google.colaboratory.intrinsic+json": {
              "type": "string"
            }
          },
          "metadata": {},
          "execution_count": 79
        }
      ]
    },
    {
      "cell_type": "code",
      "source": [
        "# Incluir uma chave e um valor\n",
        "carro['motor']  = '1.0'\n",
        "print(carro)"
      ],
      "metadata": {
        "colab": {
          "base_uri": "https://localhost:8080/"
        },
        "id": "HmZFAC-KbOaU",
        "outputId": "13e44c7b-2639-48f4-b00d-64e5fd68cf88"
      },
      "execution_count": null,
      "outputs": [
        {
          "output_type": "stream",
          "name": "stdout",
          "text": [
            "{'marca': 'vw', 'modelo': 'gol', 'tipo': 'mec', 'cor': 'cinza', 'motor': '1.0'}\n"
          ]
        }
      ]
    },
    {
      "cell_type": "code",
      "source": [
        "carro.get('motor')"
      ],
      "metadata": {
        "colab": {
          "base_uri": "https://localhost:8080/",
          "height": 35
        },
        "id": "ZmB88pokbmPQ",
        "outputId": "fd4ecbda-d882-4975-fa7b-96f6ca6af1e9"
      },
      "execution_count": null,
      "outputs": [
        {
          "output_type": "execute_result",
          "data": {
            "text/plain": [
              "'1.0'"
            ],
            "application/vnd.google.colaboratory.intrinsic+json": {
              "type": "string"
            }
          },
          "metadata": {},
          "execution_count": 82
        }
      ]
    },
    {
      "cell_type": "code",
      "source": [
        "#Excluir um item de um dicionário\n",
        "carro.pop('marca')\n",
        "print(carro)"
      ],
      "metadata": {
        "colab": {
          "base_uri": "https://localhost:8080/"
        },
        "id": "K4h9XFT2bvJi",
        "outputId": "b987d602-f45f-4309-be20-42da46730660"
      },
      "execution_count": null,
      "outputs": [
        {
          "output_type": "stream",
          "name": "stdout",
          "text": [
            "{'modelo': 'gol', 'tipo': 'mec', 'cor': 'cinza', 'motor': '1.0'}\n"
          ]
        }
      ]
    },
    {
      "cell_type": "code",
      "source": [
        "#Excluindo o último par de chave/valor (no caso exclui o último)\n",
        "carro.popitem()\n",
        "print(carro)"
      ],
      "metadata": {
        "colab": {
          "base_uri": "https://localhost:8080/"
        },
        "id": "vhHp0OqOcAra",
        "outputId": "9e4384d7-37b9-4abf-83f9-5dfea7f8669c"
      },
      "execution_count": null,
      "outputs": [
        {
          "output_type": "stream",
          "name": "stdout",
          "text": [
            "{'modelo': 'gol', 'tipo': 'mec', 'cor': 'cinza'}\n"
          ]
        }
      ]
    },
    {
      "cell_type": "markdown",
      "source": [
        "#4.4 Sets (Conjuntos)"
      ],
      "metadata": {
        "id": "hU8Iqm6Bch42"
      }
    },
    {
      "cell_type": "code",
      "source": [
        "clientes = {'Douglas', 'Eduardo', 'Ester'}\n",
        "print(clientes)\n",
        "print(type(clientes))"
      ],
      "metadata": {
        "colab": {
          "base_uri": "https://localhost:8080/"
        },
        "id": "EtS-lpPGc8Pt",
        "outputId": "4c8e3135-5998-475e-820c-0451e50f1e52"
      },
      "execution_count": null,
      "outputs": [
        {
          "output_type": "stream",
          "name": "stdout",
          "text": [
            "{'Douglas', 'Eduardo', 'Ester'}\n",
            "<class 'set'>\n"
          ]
        }
      ]
    },
    {
      "cell_type": "markdown",
      "source": [
        "#5. Estruturas de controle de fluxo"
      ],
      "metadata": {
        "id": "uyvwC3Vydeyr"
      }
    },
    {
      "cell_type": "markdown",
      "source": [
        "##5.1 IF, ELIF e ELSE"
      ],
      "metadata": {
        "id": "0ypdQJTIeYFN"
      }
    },
    {
      "cell_type": "code",
      "source": [
        "'''\n",
        "Imagine que você deseja criar um código que receba do usuário uma nota de 0 a 10\n",
        "e caso a nota seja maior ou igual a 7 exiba a mensagem aprovado, caso contrario\n",
        "exiba a mensagem reprovado\n",
        "'''\n",
        "nota = float (input('Informe uma nota numérica de o a 10: '))\n",
        "if nota >= 7:\n",
        "  print('Aprovado')\n",
        "else:\n",
        "  print('Reprovado')"
      ],
      "metadata": {
        "colab": {
          "base_uri": "https://localhost:8080/"
        },
        "id": "j1vn26x_dqYX",
        "outputId": "66c5929e-ae19-4ae6-bbd8-60c1ec595429"
      },
      "execution_count": null,
      "outputs": [
        {
          "output_type": "stream",
          "name": "stdout",
          "text": [
            "Informe uma nota numérica de o a 10: 7\n",
            "Aprovado\n"
          ]
        }
      ]
    },
    {
      "cell_type": "code",
      "source": [
        "'''\n",
        "Imagine que se a nota for maior ou igual a 7 a mensagem deve ser\n",
        "Aprovado, se menor que 7 e maior ou igual, a mensagem dever ser Recuperação\n",
        "e caso a nota seja menor que 4 a mensagem deve ser Reprovado\n",
        "'''\n",
        "nota = float(input('Informe uma nota numérica de 0 a 10: '))\n",
        "if nota >= 7:\n",
        "  print('Aprovado')\n",
        "elif nota >= 4:\n",
        "  print('Recuperação')\n",
        "else:\n",
        "  print('Reprovado')"
      ],
      "metadata": {
        "colab": {
          "base_uri": "https://localhost:8080/"
        },
        "id": "dHRcqBYrfr3H",
        "outputId": "724d22f2-083c-48b6-c605-d881aa38b72d"
      },
      "execution_count": null,
      "outputs": [
        {
          "output_type": "stream",
          "name": "stdout",
          "text": [
            "Informe uma nota numérica de 0 a 10: 3\n",
            "Reprovado\n"
          ]
        }
      ]
    },
    {
      "cell_type": "markdown",
      "source": [
        "##5.2 FOR"
      ],
      "metadata": {
        "id": "G4InDf_nlrpC"
      }
    },
    {
      "cell_type": "code",
      "source": [
        "nomes = ['Douglas','Daniela','Pedro','Maria','Eduardo','Ester']"
      ],
      "metadata": {
        "id": "z4hDeRhWlvHs"
      },
      "execution_count": null,
      "outputs": []
    },
    {
      "cell_type": "code",
      "source": [
        "'''\n",
        "Imagine que você deseja percorrer a lista de nomes e imprimir separadamente\n",
        "cada nome encontrando\n",
        "'''\n",
        "for nome in nomes:\n",
        "  print(nome)"
      ],
      "metadata": {
        "colab": {
          "base_uri": "https://localhost:8080/"
        },
        "id": "XJ_0lv9Ol8CU",
        "outputId": "4475035c-33f4-404d-b41f-f61d8a324a2f"
      },
      "execution_count": null,
      "outputs": [
        {
          "output_type": "stream",
          "name": "stdout",
          "text": [
            "Douglas\n",
            "Daniela\n",
            "Pedro\n",
            "Maria\n",
            "Eduardo\n",
            "Ester\n"
          ]
        }
      ]
    },
    {
      "cell_type": "code",
      "source": [
        "pesos = [87, 35, 90, 70, 96, 67]\n",
        "alturas = [1.85, 1.41, 1.75, 1.70, 1.82, 1.74]"
      ],
      "metadata": {
        "id": "GC0vdDAKmxrs"
      },
      "execution_count": null,
      "outputs": []
    },
    {
      "cell_type": "code",
      "source": [
        "for numero in range(6):\n",
        "  print(numero)"
      ],
      "metadata": {
        "colab": {
          "base_uri": "https://localhost:8080/"
        },
        "id": "3cQ2D0CVnZQH",
        "outputId": "c5a949d4-788e-456a-e326-ad8cdf849f2e"
      },
      "execution_count": null,
      "outputs": [
        {
          "output_type": "stream",
          "name": "stdout",
          "text": [
            "0\n",
            "1\n",
            "2\n",
            "3\n",
            "4\n",
            "5\n"
          ]
        }
      ]
    },
    {
      "cell_type": "code",
      "source": [
        "'''\n",
        "Suponha que você deseja criar uma lista de imc relacionamento\n",
        "os pesos com suas repectivas alturas\n",
        "'''\n",
        "#range cria uma sequência e ele associa as listas\n",
        "# o len conta quantos pesos poderia deixar como 6 for i in range(6):\n",
        "imc = []\n",
        "for i in range(len(pesos)):\n",
        "  imc.append(round(pesos[i]/alturas[i]**2, 2))\n",
        "print(imc)"
      ],
      "metadata": {
        "colab": {
          "base_uri": "https://localhost:8080/"
        },
        "id": "BGk515mNnCPp",
        "outputId": "111d4a5e-de4e-4b4a-9361-f6c1188e0d60"
      },
      "execution_count": null,
      "outputs": [
        {
          "output_type": "stream",
          "name": "stdout",
          "text": [
            "[25.42, 17.6, 29.39, 24.22, 28.98, 22.13]\n"
          ]
        }
      ]
    },
    {
      "cell_type": "markdown",
      "source": [
        "##5.3 While"
      ],
      "metadata": {
        "id": "fFF14J4EWmkf"
      }
    },
    {
      "cell_type": "code",
      "source": [
        "'''\n",
        "Imagine que você deseja criar uma lista que receba do usuário uma quantidade de\n",
        "notas determinada pelo usúario e armazena cada nota em uma lista e ao final\n",
        "exiba a média aritmética\n",
        "'''\n",
        "n = int(input(\"Informe a quantidade de notas para calcular a média: \"))\n",
        "notas = []\n",
        "c = 0\n",
        "while c < n:\n",
        "  notas.append(float(input(f\"Informe a {c+1}ª nota: \"))) #c+1 nesse caso é para exibir 1ª,2ª...\n",
        "  c += 1 # é para somar o contador que começa com o 0\n",
        "media = sum(notas)/n\n",
        "print(f\"A média das notas é: {media}\")\n"
      ],
      "metadata": {
        "colab": {
          "base_uri": "https://localhost:8080/"
        },
        "id": "aOWZdCrLrDC9",
        "outputId": "d49abf69-4404-42fa-e2fd-10c0be11d7ff"
      },
      "execution_count": null,
      "outputs": [
        {
          "output_type": "stream",
          "name": "stdout",
          "text": [
            "Informe a quantidade de notas para calcular a média: 2\n",
            "Informe a 1ª nota: 8\n",
            "Informe a 2ª nota: 5\n",
            "A média das notas é: 6.5\n"
          ]
        }
      ]
    },
    {
      "cell_type": "code",
      "source": [
        "#Alternativa\n",
        "'''\n",
        "Imagine que você deseja criar uma lista que receba do usuário uma quantidade de\n",
        "notas determinada pelo usúario e armazena cada nota em uma lista e ao final\n",
        "exiba a média aritmética\n",
        "'''\n",
        "notas = input('Informe as notas separadas por espaço: ')\n",
        "#type(notas)resultado é uma str\n",
        "notas = notas.split() #tranforma uma string em uma sequencia de strings em uma lista\n",
        "type(notas)"
      ],
      "metadata": {
        "colab": {
          "base_uri": "https://localhost:8080/"
        },
        "id": "Z5mwm9xsuUQt",
        "outputId": "428f059c-6a04-40be-c219-e6b17bad2d2c"
      },
      "execution_count": null,
      "outputs": [
        {
          "name": "stdout",
          "output_type": "stream",
          "text": [
            "Informe as notas separadas por espaço: 3\n"
          ]
        },
        {
          "output_type": "execute_result",
          "data": {
            "text/plain": [
              "list"
            ]
          },
          "metadata": {},
          "execution_count": 116
        }
      ]
    },
    {
      "cell_type": "code",
      "source": [
        "notas = input('Informe as notas separadas por espaço: ')\n",
        "notas = notas.split()\n",
        "for i in range(len(notas)):\n",
        "  notas[i] = float(notas[i])\n",
        "print(notas)\n",
        "media = sum(notas)/len(notas)\n",
        "print(f\"A média das notas é: {media}\")"
      ],
      "metadata": {
        "colab": {
          "base_uri": "https://localhost:8080/"
        },
        "id": "lIcXZIAbvm9f",
        "outputId": "9f58b497-4986-4868-c112-6a128a53875e"
      },
      "execution_count": null,
      "outputs": [
        {
          "output_type": "stream",
          "name": "stdout",
          "text": [
            "Informe as notas separadas por espaço: 3 9 8\n",
            "[3.0, 9.0, 8.0]\n",
            "A média das notas é: 6.666666666666667\n"
          ]
        }
      ]
    },
    {
      "cell_type": "markdown",
      "source": [
        "##5.4 Loop Infinito (While true)"
      ],
      "metadata": {
        "id": "74mvrWvvV3vp"
      }
    },
    {
      "cell_type": "code",
      "source": [
        "'''\n",
        "Suponha que você deseja solicitar uma informação ao usúario\n",
        "dentro de um loop while\n",
        "'''\n",
        "while True:\n",
        "  idade = float(input('Informe sua idade: '))\n",
        "  break\n",
        "  #break vai parar o loop"
      ],
      "metadata": {
        "colab": {
          "base_uri": "https://localhost:8080/"
        },
        "id": "ZwsKwj35WDvP",
        "outputId": "9f9d41e7-1130-4506-a08c-82b060087ded"
      },
      "execution_count": null,
      "outputs": [
        {
          "name": "stdout",
          "output_type": "stream",
          "text": [
            "Informe sua idade: 27\n"
          ]
        }
      ]
    },
    {
      "cell_type": "markdown",
      "source": [
        "#6. Tratamento de exceções"
      ],
      "metadata": {
        "id": "Ru8d5swYXQff"
      }
    },
    {
      "cell_type": "code",
      "source": [
        "'''\n",
        "Imagine que você deseja receber do usúario uma idade numérica em anos inteiros\n",
        "e armazenar em uma variável chamada idade\n",
        "'''\n",
        "idade = int(input('Informe sua idade numérica em anos inteiros: '))"
      ],
      "metadata": {
        "colab": {
          "base_uri": "https://localhost:8080/",
          "height": 193
        },
        "id": "v3_WXXAGXXXA",
        "outputId": "1bd2aaa3-1193-4a9f-a8d8-9f2ded781fe8"
      },
      "execution_count": null,
      "outputs": [
        {
          "name": "stdout",
          "output_type": "stream",
          "text": [
            "Informe sua idade numérica em anos inteiros: 56.9\n"
          ]
        },
        {
          "output_type": "error",
          "ename": "ValueError",
          "evalue": "invalid literal for int() with base 10: '56.9'",
          "traceback": [
            "\u001b[0;31m---------------------------------------------------------------------------\u001b[0m",
            "\u001b[0;31mValueError\u001b[0m                                Traceback (most recent call last)",
            "\u001b[0;32m<ipython-input-5-4a2d82f9cdcb>\u001b[0m in \u001b[0;36m<cell line: 5>\u001b[0;34m()\u001b[0m\n\u001b[1;32m      3\u001b[0m \u001b[0me\u001b[0m \u001b[0marmazenar\u001b[0m \u001b[0mem\u001b[0m \u001b[0muma\u001b[0m \u001b[0mvariável\u001b[0m \u001b[0mchamada\u001b[0m \u001b[0midade\u001b[0m\u001b[0;34m\u001b[0m\u001b[0;34m\u001b[0m\u001b[0m\n\u001b[1;32m      4\u001b[0m '''\n\u001b[0;32m----> 5\u001b[0;31m \u001b[0midade\u001b[0m \u001b[0;34m=\u001b[0m \u001b[0mint\u001b[0m\u001b[0;34m(\u001b[0m\u001b[0minput\u001b[0m\u001b[0;34m(\u001b[0m\u001b[0;34m'Informe sua idade numérica em anos inteiros: '\u001b[0m\u001b[0;34m)\u001b[0m\u001b[0;34m)\u001b[0m\u001b[0;34m\u001b[0m\u001b[0;34m\u001b[0m\u001b[0m\n\u001b[0m",
            "\u001b[0;31mValueError\u001b[0m: invalid literal for int() with base 10: '56.9'"
          ]
        }
      ]
    },
    {
      "cell_type": "code",
      "source": [
        "# Utilizando o try e except para não quebrar o código\n",
        "'''\n",
        "Esta estrutura não deixa quebrar o código, mas sem a combinação com o\n",
        "while True ele encerra o código\n",
        "'''\n",
        "try:\n",
        "  idade = int(input('Informe sua idade numérica em anos inteiros: '))\n",
        "except:\n",
        "  print('O valor informado não é numérico, favor tentar novamente!')"
      ],
      "metadata": {
        "colab": {
          "base_uri": "https://localhost:8080/"
        },
        "id": "tTh-rlJKX-Qp",
        "outputId": "9dfab08e-09d1-4acc-af31-cbaf6379800f"
      },
      "execution_count": null,
      "outputs": [
        {
          "output_type": "stream",
          "name": "stdout",
          "text": [
            "Informe sua idade numérica em anos inteiros: vinte sete\n",
            "O valor informado não é numérico, favor tentar novamente!\n"
          ]
        }
      ]
    },
    {
      "cell_type": "code",
      "source": [
        "'''\n",
        "Neste bloco temos uma opção para não quebrar e não para o código\n",
        "diante de uma exceção\n",
        "'''\n",
        "while True:\n",
        "  try:\n",
        "    idade = int(input('Informe sua idade numérica em anos inteiros: '))\n",
        "    break\n",
        "  except:\n",
        "    print('O valor informado não é numérico, favor tentar novamente!')"
      ],
      "metadata": {
        "colab": {
          "base_uri": "https://localhost:8080/"
        },
        "id": "UxQP1bknYqjR",
        "outputId": "14624716-4c39-474b-e05d-8d46fbb865f3"
      },
      "execution_count": null,
      "outputs": [
        {
          "name": "stdout",
          "output_type": "stream",
          "text": [
            "Informe sua idade numérica em anos inteiros: a\n",
            "O valor informado não é numérico, favor tentar novamente!\n",
            "Informe sua idade numérica em anos inteiros: 3.4\n",
            "O valor informado não é numérico, favor tentar novamente!\n",
            "Informe sua idade numérica em anos inteiros: 27\n"
          ]
        }
      ]
    },
    {
      "cell_type": "markdown",
      "source": [
        "#7. Funções definidas pelo usário"
      ],
      "metadata": {
        "id": "KVN662EVbm6M"
      }
    },
    {
      "cell_type": "code",
      "source": [
        "'''\n",
        "Imagine que você deseja criar um trecho de código que cada vez\n",
        "que for executado, exiba a mensagem \"Olá mundo\"\n",
        "'''\n",
        "def sorte():#função sem argumento. Def é preparado para receber uma função\n",
        "  print('Olá mundo!')"
      ],
      "metadata": {
        "id": "HaM9ubbEbu3Q"
      },
      "execution_count": null,
      "outputs": []
    },
    {
      "cell_type": "code",
      "source": [
        "sorte()"
      ],
      "metadata": {
        "colab": {
          "base_uri": "https://localhost:8080/"
        },
        "id": "DHV9va8TcYOq",
        "outputId": "d67315de-71b2-4d31-9bd2-2dbfc9d629e5"
      },
      "execution_count": null,
      "outputs": [
        {
          "output_type": "stream",
          "name": "stdout",
          "text": [
            "Olá mundo!\n"
          ]
        }
      ]
    },
    {
      "cell_type": "code",
      "source": [
        "#Entendendo o retorno de uma função\n",
        "'''\n",
        "Suponha que ao executar a função sorte criada no exemplo anterior\n",
        "seu objetivo seja guardar em uma variável o texto por ela exibido\n",
        "'''\n",
        "texto = sorte()\n",
        "print(texto)"
      ],
      "metadata": {
        "colab": {
          "base_uri": "https://localhost:8080/"
        },
        "id": "oSXqsLqBdN5-",
        "outputId": "fea0a494-554f-4ea3-b4eb-6ac75e65442d"
      },
      "execution_count": null,
      "outputs": [
        {
          "output_type": "stream",
          "name": "stdout",
          "text": [
            "Olá mundo!\n",
            "None\n"
          ]
        }
      ]
    },
    {
      "cell_type": "code",
      "source": [
        "print(texto)"
      ],
      "metadata": {
        "colab": {
          "base_uri": "https://localhost:8080/"
        },
        "id": "6knVJ3ZDdve9",
        "outputId": "01149618-6257-4174-f311-b9270b17df4a"
      },
      "execution_count": null,
      "outputs": [
        {
          "output_type": "stream",
          "name": "stdout",
          "text": [
            "None\n"
          ]
        }
      ]
    },
    {
      "cell_type": "code",
      "source": [
        "'''\n",
        "Neste caso podemos observar que ao tentar guardar o texto na variável\n",
        "não aconteceu o efeito desejado, poque não pedi o tipo de retorno só fez a exibição\n",
        "tem que deixar explicito. A função está sem retorno não dá para armazenar\n",
        "'''\n",
        "print(texto)"
      ],
      "metadata": {
        "colab": {
          "base_uri": "https://localhost:8080/"
        },
        "id": "UEFrkHTbd6yP",
        "outputId": "4146e3db-3ab4-40e9-de7d-8369a84660db"
      },
      "execution_count": null,
      "outputs": [
        {
          "output_type": "stream",
          "name": "stdout",
          "text": [
            "None\n"
          ]
        }
      ]
    },
    {
      "cell_type": "code",
      "source": [
        "def sorte2():\n",
        "  a = 'Olá mundo!'\n",
        "  return a #o return vai armazenar o valor de sorte2()"
      ],
      "metadata": {
        "id": "FW-6TejEemvE"
      },
      "execution_count": null,
      "outputs": []
    },
    {
      "cell_type": "code",
      "source": [
        "sorte2()"
      ],
      "metadata": {
        "colab": {
          "base_uri": "https://localhost:8080/",
          "height": 36
        },
        "id": "vzoPiKKzfX6W",
        "outputId": "458265cd-0883-41ca-93f9-8b1f9d4a10ea"
      },
      "execution_count": null,
      "outputs": [
        {
          "output_type": "execute_result",
          "data": {
            "text/plain": [
              "'Olá mundo!'"
            ],
            "application/vnd.google.colaboratory.intrinsic+json": {
              "type": "string"
            }
          },
          "metadata": {},
          "execution_count": 19
        }
      ]
    },
    {
      "cell_type": "code",
      "source": [
        "texto = sorte2()\n",
        "print(texto)"
      ],
      "metadata": {
        "colab": {
          "base_uri": "https://localhost:8080/"
        },
        "id": "zJs877c5fZoO",
        "outputId": "08ad318c-f312-4aeb-ec3e-b03fa0d61d6c"
      },
      "execution_count": null,
      "outputs": [
        {
          "output_type": "stream",
          "name": "stdout",
          "text": [
            "Olá mundo!\n"
          ]
        }
      ]
    },
    {
      "cell_type": "code",
      "source": [
        "'''\n",
        "Imagine que você deseja criar uma função que quando executada receba do usuário\n",
        "seu peso, sua altura e retorne o seu imc\n",
        "'''\n",
        "def calcula_imc():\n",
        "  peso = float(input('Informe seu peso: '))\n",
        "  altura = float(input('Informe sua altura: '))\n",
        "  imc =  peso/altura**2\n",
        "  return imc"
      ],
      "metadata": {
        "id": "WMB7F9Okjj1s"
      },
      "execution_count": null,
      "outputs": []
    },
    {
      "cell_type": "code",
      "source": [
        "calcula_imc()"
      ],
      "metadata": {
        "colab": {
          "base_uri": "https://localhost:8080/"
        },
        "id": "sZwc22hZmZGS",
        "outputId": "97f7f139-8452-41e8-b4d0-1aab9725c1ce"
      },
      "execution_count": null,
      "outputs": [
        {
          "name": "stdout",
          "output_type": "stream",
          "text": [
            "Informe seu peso: 87\n",
            "Informe sua altura: 1.85\n"
          ]
        },
        {
          "output_type": "execute_result",
          "data": {
            "text/plain": [
              "25.420014609203797"
            ]
          },
          "metadata": {},
          "execution_count": 48
        }
      ]
    },
    {
      "cell_type": "code",
      "source": [
        "'''\n",
        "Agora imagine que você deseja que os valores de peso e altura sejam\n",
        "fornecidos como argumentos ao chamar a função\n",
        "'''\n",
        "def imc(peso, altura):\n",
        "  imc = peso/altura**2\n",
        "  return imc"
      ],
      "metadata": {
        "id": "t3O7tplEmedZ"
      },
      "execution_count": null,
      "outputs": []
    },
    {
      "cell_type": "code",
      "source": [
        "'''\n",
        "A função imc foi criada requerendo dois argumentos posicionais, peso(1)\n",
        "e altura(2)\n",
        "'''\n",
        "imc (87, 1.85)"
      ],
      "metadata": {
        "colab": {
          "base_uri": "https://localhost:8080/"
        },
        "id": "hLaBL5F8nq5d",
        "outputId": "e5fa798f-7ec8-4f03-f865-ec5ca5536e58"
      },
      "execution_count": null,
      "outputs": [
        {
          "output_type": "execute_result",
          "data": {
            "text/plain": [
              "25.420014609203797"
            ]
          },
          "metadata": {},
          "execution_count": 52
        }
      ]
    },
    {
      "cell_type": "code",
      "source": [
        "imc(peso = 87, altura = 1.85) #eu nomeio o argumento para que ele calcule fora de ordem"
      ],
      "metadata": {
        "colab": {
          "base_uri": "https://localhost:8080/"
        },
        "id": "rSc7OA_woR3y",
        "outputId": "533da906-98bf-432e-b8c5-536b2a419903"
      },
      "execution_count": null,
      "outputs": [
        {
          "output_type": "execute_result",
          "data": {
            "text/plain": [
              "25.420014609203797"
            ]
          },
          "metadata": {},
          "execution_count": 53
        }
      ]
    },
    {
      "cell_type": "code",
      "source": [
        "'''\n",
        "Os argumentos nomeados podem subverter a ordem dos argumentos posicionais\n",
        "só colocar o nome no argumento e o sinal de igual\n",
        "'''\n",
        "imc(altura = 1.85, peso = 87)"
      ],
      "metadata": {
        "colab": {
          "base_uri": "https://localhost:8080/"
        },
        "id": "1lXIxjHhonVp",
        "outputId": "9ce315f3-01bc-47d1-b93a-c71ac3cd8b70"
      },
      "execution_count": null,
      "outputs": [
        {
          "output_type": "execute_result",
          "data": {
            "text/plain": [
              "25.420014609203797"
            ]
          },
          "metadata": {},
          "execution_count": 54
        }
      ]
    }
  ]
}