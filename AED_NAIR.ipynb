{
  "nbformat": 4,
  "nbformat_minor": 0,
  "metadata": {
    "colab": {
      "provenance": [],
      "authorship_tag": "ABX9TyMTnbotY2ENj9g8jcm1/nH0",
      "include_colab_link": true
    },
    "kernelspec": {
      "name": "python3",
      "display_name": "Python 3"
    },
    "language_info": {
      "name": "python"
    }
  },
  "cells": [
    {
      "cell_type": "markdown",
      "metadata": {
        "id": "view-in-github",
        "colab_type": "text"
      },
      "source": [
        "<a href=\"https://colab.research.google.com/github/nairtm/Analista_de_dados_Flora_SoulCode/blob/main/AED_NAIR.ipynb\" target=\"_parent\"><img src=\"https://colab.research.google.com/assets/colab-badge.svg\" alt=\"Open In Colab\"/></a>"
      ]
    },
    {
      "cell_type": "code",
      "execution_count": null,
      "metadata": {
        "id": "jk0g2vlapyn1"
      },
      "outputs": [],
      "source": [
        "import pandas as pd\n",
        "import numpy as np\n",
        "import statistics as st"
      ]
    },
    {
      "cell_type": "code",
      "source": [
        "# importando uma tabela a partir de um link da internet\n",
        "df = pd.read_csv('https://docs.google.com/spreadsheets/d/e/2PACX-1vSU9iI1TDNfDVCbv4FCa9TDhBmgQKsDtrW6n7R6ndyFzDo2Qeq8sJj-RhJnzKuwm5Lx1f8n7r7ig7Vs/pub?gid=0&single=true&output=csv')\n",
        "display(df)"
      ],
      "metadata": {
        "colab": {
          "base_uri": "https://localhost:8080/",
          "height": 400
        },
        "id": "obdaGVaoqih4",
        "outputId": "b0b0c2f1-35a4-4441-df44-62f4dc2310b6"
      },
      "execution_count": null,
      "outputs": [
        {
          "output_type": "display_data",
          "data": {
            "text/plain": [
              "   matricula      nome     cidade estado    pais  idade departamento  \\\n",
              "0          1     Lucas    Atibaia     SP  Brasil     35      Compras   \n",
              "1          2       Ana  São Paulo     SP  Brasil     29       Vendas   \n",
              "2          3     Luiza     Santos     SP  Brasil     38     Finanças   \n",
              "3          4  Fernando    Atibaia     SP  Brasil     36    Marketing   \n",
              "4          5    Sandra    Atibaia     SP  Brasil     28     Produção   \n",
              "5          6   Douglas   Bragança     SP  Brasil     29     Finanças   \n",
              "6          7   Eduardo    Extrema     MG  Brasil     30    Marketing   \n",
              "7          8     Ester    Itapeva     MG  Brasil     29      Compras   \n",
              "8          9     Pedro    Extrema     MG  Brasil     30    Marketing   \n",
              "9         10     Maria    Extrema     MG  Brasil     40     Produção   \n",
              "\n",
              "         cargo  salario escolaridade  nota  \n",
              "0      Gerente    25000     Superior     8  \n",
              "1  Coordenador    12000     Superior     6  \n",
              "2      Gerente    28000          MBA     9  \n",
              "3      Diretor    40000     Mestrado     7  \n",
              "4     Analista    23000     Superior     5  \n",
              "5     Analista    11000     Superior     9  \n",
              "6      Gerente    12000          MBA     4  \n",
              "7     Analista    10000     Superior     2  \n",
              "8     Analista    13000     Superior     1  \n",
              "9     Analista    12000          MBA     7  "
            ],
            "text/html": [
              "\n",
              "  <div id=\"df-ed3d85b3-6d45-497a-bf24-1c91ff9e12d9\" class=\"colab-df-container\">\n",
              "    <div>\n",
              "<style scoped>\n",
              "    .dataframe tbody tr th:only-of-type {\n",
              "        vertical-align: middle;\n",
              "    }\n",
              "\n",
              "    .dataframe tbody tr th {\n",
              "        vertical-align: top;\n",
              "    }\n",
              "\n",
              "    .dataframe thead th {\n",
              "        text-align: right;\n",
              "    }\n",
              "</style>\n",
              "<table border=\"1\" class=\"dataframe\">\n",
              "  <thead>\n",
              "    <tr style=\"text-align: right;\">\n",
              "      <th></th>\n",
              "      <th>matricula</th>\n",
              "      <th>nome</th>\n",
              "      <th>cidade</th>\n",
              "      <th>estado</th>\n",
              "      <th>pais</th>\n",
              "      <th>idade</th>\n",
              "      <th>departamento</th>\n",
              "      <th>cargo</th>\n",
              "      <th>salario</th>\n",
              "      <th>escolaridade</th>\n",
              "      <th>nota</th>\n",
              "    </tr>\n",
              "  </thead>\n",
              "  <tbody>\n",
              "    <tr>\n",
              "      <th>0</th>\n",
              "      <td>1</td>\n",
              "      <td>Lucas</td>\n",
              "      <td>Atibaia</td>\n",
              "      <td>SP</td>\n",
              "      <td>Brasil</td>\n",
              "      <td>35</td>\n",
              "      <td>Compras</td>\n",
              "      <td>Gerente</td>\n",
              "      <td>25000</td>\n",
              "      <td>Superior</td>\n",
              "      <td>8</td>\n",
              "    </tr>\n",
              "    <tr>\n",
              "      <th>1</th>\n",
              "      <td>2</td>\n",
              "      <td>Ana</td>\n",
              "      <td>São Paulo</td>\n",
              "      <td>SP</td>\n",
              "      <td>Brasil</td>\n",
              "      <td>29</td>\n",
              "      <td>Vendas</td>\n",
              "      <td>Coordenador</td>\n",
              "      <td>12000</td>\n",
              "      <td>Superior</td>\n",
              "      <td>6</td>\n",
              "    </tr>\n",
              "    <tr>\n",
              "      <th>2</th>\n",
              "      <td>3</td>\n",
              "      <td>Luiza</td>\n",
              "      <td>Santos</td>\n",
              "      <td>SP</td>\n",
              "      <td>Brasil</td>\n",
              "      <td>38</td>\n",
              "      <td>Finanças</td>\n",
              "      <td>Gerente</td>\n",
              "      <td>28000</td>\n",
              "      <td>MBA</td>\n",
              "      <td>9</td>\n",
              "    </tr>\n",
              "    <tr>\n",
              "      <th>3</th>\n",
              "      <td>4</td>\n",
              "      <td>Fernando</td>\n",
              "      <td>Atibaia</td>\n",
              "      <td>SP</td>\n",
              "      <td>Brasil</td>\n",
              "      <td>36</td>\n",
              "      <td>Marketing</td>\n",
              "      <td>Diretor</td>\n",
              "      <td>40000</td>\n",
              "      <td>Mestrado</td>\n",
              "      <td>7</td>\n",
              "    </tr>\n",
              "    <tr>\n",
              "      <th>4</th>\n",
              "      <td>5</td>\n",
              "      <td>Sandra</td>\n",
              "      <td>Atibaia</td>\n",
              "      <td>SP</td>\n",
              "      <td>Brasil</td>\n",
              "      <td>28</td>\n",
              "      <td>Produção</td>\n",
              "      <td>Analista</td>\n",
              "      <td>23000</td>\n",
              "      <td>Superior</td>\n",
              "      <td>5</td>\n",
              "    </tr>\n",
              "    <tr>\n",
              "      <th>5</th>\n",
              "      <td>6</td>\n",
              "      <td>Douglas</td>\n",
              "      <td>Bragança</td>\n",
              "      <td>SP</td>\n",
              "      <td>Brasil</td>\n",
              "      <td>29</td>\n",
              "      <td>Finanças</td>\n",
              "      <td>Analista</td>\n",
              "      <td>11000</td>\n",
              "      <td>Superior</td>\n",
              "      <td>9</td>\n",
              "    </tr>\n",
              "    <tr>\n",
              "      <th>6</th>\n",
              "      <td>7</td>\n",
              "      <td>Eduardo</td>\n",
              "      <td>Extrema</td>\n",
              "      <td>MG</td>\n",
              "      <td>Brasil</td>\n",
              "      <td>30</td>\n",
              "      <td>Marketing</td>\n",
              "      <td>Gerente</td>\n",
              "      <td>12000</td>\n",
              "      <td>MBA</td>\n",
              "      <td>4</td>\n",
              "    </tr>\n",
              "    <tr>\n",
              "      <th>7</th>\n",
              "      <td>8</td>\n",
              "      <td>Ester</td>\n",
              "      <td>Itapeva</td>\n",
              "      <td>MG</td>\n",
              "      <td>Brasil</td>\n",
              "      <td>29</td>\n",
              "      <td>Compras</td>\n",
              "      <td>Analista</td>\n",
              "      <td>10000</td>\n",
              "      <td>Superior</td>\n",
              "      <td>2</td>\n",
              "    </tr>\n",
              "    <tr>\n",
              "      <th>8</th>\n",
              "      <td>9</td>\n",
              "      <td>Pedro</td>\n",
              "      <td>Extrema</td>\n",
              "      <td>MG</td>\n",
              "      <td>Brasil</td>\n",
              "      <td>30</td>\n",
              "      <td>Marketing</td>\n",
              "      <td>Analista</td>\n",
              "      <td>13000</td>\n",
              "      <td>Superior</td>\n",
              "      <td>1</td>\n",
              "    </tr>\n",
              "    <tr>\n",
              "      <th>9</th>\n",
              "      <td>10</td>\n",
              "      <td>Maria</td>\n",
              "      <td>Extrema</td>\n",
              "      <td>MG</td>\n",
              "      <td>Brasil</td>\n",
              "      <td>40</td>\n",
              "      <td>Produção</td>\n",
              "      <td>Analista</td>\n",
              "      <td>12000</td>\n",
              "      <td>MBA</td>\n",
              "      <td>7</td>\n",
              "    </tr>\n",
              "  </tbody>\n",
              "</table>\n",
              "</div>\n",
              "    <div class=\"colab-df-buttons\">\n",
              "\n",
              "  <div class=\"colab-df-container\">\n",
              "    <button class=\"colab-df-convert\" onclick=\"convertToInteractive('df-ed3d85b3-6d45-497a-bf24-1c91ff9e12d9')\"\n",
              "            title=\"Convert this dataframe to an interactive table.\"\n",
              "            style=\"display:none;\">\n",
              "\n",
              "  <svg xmlns=\"http://www.w3.org/2000/svg\" height=\"24px\" viewBox=\"0 -960 960 960\">\n",
              "    <path d=\"M120-120v-720h720v720H120Zm60-500h600v-160H180v160Zm220 220h160v-160H400v160Zm0 220h160v-160H400v160ZM180-400h160v-160H180v160Zm440 0h160v-160H620v160ZM180-180h160v-160H180v160Zm440 0h160v-160H620v160Z\"/>\n",
              "  </svg>\n",
              "    </button>\n",
              "\n",
              "  <style>\n",
              "    .colab-df-container {\n",
              "      display:flex;\n",
              "      gap: 12px;\n",
              "    }\n",
              "\n",
              "    .colab-df-convert {\n",
              "      background-color: #E8F0FE;\n",
              "      border: none;\n",
              "      border-radius: 50%;\n",
              "      cursor: pointer;\n",
              "      display: none;\n",
              "      fill: #1967D2;\n",
              "      height: 32px;\n",
              "      padding: 0 0 0 0;\n",
              "      width: 32px;\n",
              "    }\n",
              "\n",
              "    .colab-df-convert:hover {\n",
              "      background-color: #E2EBFA;\n",
              "      box-shadow: 0px 1px 2px rgba(60, 64, 67, 0.3), 0px 1px 3px 1px rgba(60, 64, 67, 0.15);\n",
              "      fill: #174EA6;\n",
              "    }\n",
              "\n",
              "    .colab-df-buttons div {\n",
              "      margin-bottom: 4px;\n",
              "    }\n",
              "\n",
              "    [theme=dark] .colab-df-convert {\n",
              "      background-color: #3B4455;\n",
              "      fill: #D2E3FC;\n",
              "    }\n",
              "\n",
              "    [theme=dark] .colab-df-convert:hover {\n",
              "      background-color: #434B5C;\n",
              "      box-shadow: 0px 1px 3px 1px rgba(0, 0, 0, 0.15);\n",
              "      filter: drop-shadow(0px 1px 2px rgba(0, 0, 0, 0.3));\n",
              "      fill: #FFFFFF;\n",
              "    }\n",
              "  </style>\n",
              "\n",
              "    <script>\n",
              "      const buttonEl =\n",
              "        document.querySelector('#df-ed3d85b3-6d45-497a-bf24-1c91ff9e12d9 button.colab-df-convert');\n",
              "      buttonEl.style.display =\n",
              "        google.colab.kernel.accessAllowed ? 'block' : 'none';\n",
              "\n",
              "      async function convertToInteractive(key) {\n",
              "        const element = document.querySelector('#df-ed3d85b3-6d45-497a-bf24-1c91ff9e12d9');\n",
              "        const dataTable =\n",
              "          await google.colab.kernel.invokeFunction('convertToInteractive',\n",
              "                                                    [key], {});\n",
              "        if (!dataTable) return;\n",
              "\n",
              "        const docLinkHtml = 'Like what you see? Visit the ' +\n",
              "          '<a target=\"_blank\" href=https://colab.research.google.com/notebooks/data_table.ipynb>data table notebook</a>'\n",
              "          + ' to learn more about interactive tables.';\n",
              "        element.innerHTML = '';\n",
              "        dataTable['output_type'] = 'display_data';\n",
              "        await google.colab.output.renderOutput(dataTable, element);\n",
              "        const docLink = document.createElement('div');\n",
              "        docLink.innerHTML = docLinkHtml;\n",
              "        element.appendChild(docLink);\n",
              "      }\n",
              "    </script>\n",
              "  </div>\n",
              "\n",
              "\n",
              "<div id=\"df-dc408404-d7cc-4392-a7dc-85d039c7c748\">\n",
              "  <button class=\"colab-df-quickchart\" onclick=\"quickchart('df-dc408404-d7cc-4392-a7dc-85d039c7c748')\"\n",
              "            title=\"Suggest charts\"\n",
              "            style=\"display:none;\">\n",
              "\n",
              "<svg xmlns=\"http://www.w3.org/2000/svg\" height=\"24px\"viewBox=\"0 0 24 24\"\n",
              "     width=\"24px\">\n",
              "    <g>\n",
              "        <path d=\"M19 3H5c-1.1 0-2 .9-2 2v14c0 1.1.9 2 2 2h14c1.1 0 2-.9 2-2V5c0-1.1-.9-2-2-2zM9 17H7v-7h2v7zm4 0h-2V7h2v10zm4 0h-2v-4h2v4z\"/>\n",
              "    </g>\n",
              "</svg>\n",
              "  </button>\n",
              "\n",
              "<style>\n",
              "  .colab-df-quickchart {\n",
              "      --bg-color: #E8F0FE;\n",
              "      --fill-color: #1967D2;\n",
              "      --hover-bg-color: #E2EBFA;\n",
              "      --hover-fill-color: #174EA6;\n",
              "      --disabled-fill-color: #AAA;\n",
              "      --disabled-bg-color: #DDD;\n",
              "  }\n",
              "\n",
              "  [theme=dark] .colab-df-quickchart {\n",
              "      --bg-color: #3B4455;\n",
              "      --fill-color: #D2E3FC;\n",
              "      --hover-bg-color: #434B5C;\n",
              "      --hover-fill-color: #FFFFFF;\n",
              "      --disabled-bg-color: #3B4455;\n",
              "      --disabled-fill-color: #666;\n",
              "  }\n",
              "\n",
              "  .colab-df-quickchart {\n",
              "    background-color: var(--bg-color);\n",
              "    border: none;\n",
              "    border-radius: 50%;\n",
              "    cursor: pointer;\n",
              "    display: none;\n",
              "    fill: var(--fill-color);\n",
              "    height: 32px;\n",
              "    padding: 0;\n",
              "    width: 32px;\n",
              "  }\n",
              "\n",
              "  .colab-df-quickchart:hover {\n",
              "    background-color: var(--hover-bg-color);\n",
              "    box-shadow: 0 1px 2px rgba(60, 64, 67, 0.3), 0 1px 3px 1px rgba(60, 64, 67, 0.15);\n",
              "    fill: var(--button-hover-fill-color);\n",
              "  }\n",
              "\n",
              "  .colab-df-quickchart-complete:disabled,\n",
              "  .colab-df-quickchart-complete:disabled:hover {\n",
              "    background-color: var(--disabled-bg-color);\n",
              "    fill: var(--disabled-fill-color);\n",
              "    box-shadow: none;\n",
              "  }\n",
              "\n",
              "  .colab-df-spinner {\n",
              "    border: 2px solid var(--fill-color);\n",
              "    border-color: transparent;\n",
              "    border-bottom-color: var(--fill-color);\n",
              "    animation:\n",
              "      spin 1s steps(1) infinite;\n",
              "  }\n",
              "\n",
              "  @keyframes spin {\n",
              "    0% {\n",
              "      border-color: transparent;\n",
              "      border-bottom-color: var(--fill-color);\n",
              "      border-left-color: var(--fill-color);\n",
              "    }\n",
              "    20% {\n",
              "      border-color: transparent;\n",
              "      border-left-color: var(--fill-color);\n",
              "      border-top-color: var(--fill-color);\n",
              "    }\n",
              "    30% {\n",
              "      border-color: transparent;\n",
              "      border-left-color: var(--fill-color);\n",
              "      border-top-color: var(--fill-color);\n",
              "      border-right-color: var(--fill-color);\n",
              "    }\n",
              "    40% {\n",
              "      border-color: transparent;\n",
              "      border-right-color: var(--fill-color);\n",
              "      border-top-color: var(--fill-color);\n",
              "    }\n",
              "    60% {\n",
              "      border-color: transparent;\n",
              "      border-right-color: var(--fill-color);\n",
              "    }\n",
              "    80% {\n",
              "      border-color: transparent;\n",
              "      border-right-color: var(--fill-color);\n",
              "      border-bottom-color: var(--fill-color);\n",
              "    }\n",
              "    90% {\n",
              "      border-color: transparent;\n",
              "      border-bottom-color: var(--fill-color);\n",
              "    }\n",
              "  }\n",
              "</style>\n",
              "\n",
              "  <script>\n",
              "    async function quickchart(key) {\n",
              "      const quickchartButtonEl =\n",
              "        document.querySelector('#' + key + ' button');\n",
              "      quickchartButtonEl.disabled = true;  // To prevent multiple clicks.\n",
              "      quickchartButtonEl.classList.add('colab-df-spinner');\n",
              "      try {\n",
              "        const charts = await google.colab.kernel.invokeFunction(\n",
              "            'suggestCharts', [key], {});\n",
              "      } catch (error) {\n",
              "        console.error('Error during call to suggestCharts:', error);\n",
              "      }\n",
              "      quickchartButtonEl.classList.remove('colab-df-spinner');\n",
              "      quickchartButtonEl.classList.add('colab-df-quickchart-complete');\n",
              "    }\n",
              "    (() => {\n",
              "      let quickchartButtonEl =\n",
              "        document.querySelector('#df-dc408404-d7cc-4392-a7dc-85d039c7c748 button');\n",
              "      quickchartButtonEl.style.display =\n",
              "        google.colab.kernel.accessAllowed ? 'block' : 'none';\n",
              "    })();\n",
              "  </script>\n",
              "</div>\n",
              "\n",
              "  <div id=\"id_869c80bf-d4fc-4716-bdc8-39004f5b5832\">\n",
              "    <style>\n",
              "      .colab-df-generate {\n",
              "        background-color: #E8F0FE;\n",
              "        border: none;\n",
              "        border-radius: 50%;\n",
              "        cursor: pointer;\n",
              "        display: none;\n",
              "        fill: #1967D2;\n",
              "        height: 32px;\n",
              "        padding: 0 0 0 0;\n",
              "        width: 32px;\n",
              "      }\n",
              "\n",
              "      .colab-df-generate:hover {\n",
              "        background-color: #E2EBFA;\n",
              "        box-shadow: 0px 1px 2px rgba(60, 64, 67, 0.3), 0px 1px 3px 1px rgba(60, 64, 67, 0.15);\n",
              "        fill: #174EA6;\n",
              "      }\n",
              "\n",
              "      [theme=dark] .colab-df-generate {\n",
              "        background-color: #3B4455;\n",
              "        fill: #D2E3FC;\n",
              "      }\n",
              "\n",
              "      [theme=dark] .colab-df-generate:hover {\n",
              "        background-color: #434B5C;\n",
              "        box-shadow: 0px 1px 3px 1px rgba(0, 0, 0, 0.15);\n",
              "        filter: drop-shadow(0px 1px 2px rgba(0, 0, 0, 0.3));\n",
              "        fill: #FFFFFF;\n",
              "      }\n",
              "    </style>\n",
              "    <button class=\"colab-df-generate\" onclick=\"generateWithVariable('df')\"\n",
              "            title=\"Generate code using this dataframe.\"\n",
              "            style=\"display:none;\">\n",
              "\n",
              "  <svg xmlns=\"http://www.w3.org/2000/svg\" height=\"24px\"viewBox=\"0 0 24 24\"\n",
              "       width=\"24px\">\n",
              "    <path d=\"M7,19H8.4L18.45,9,17,7.55,7,17.6ZM5,21V16.75L18.45,3.32a2,2,0,0,1,2.83,0l1.4,1.43a1.91,1.91,0,0,1,.58,1.4,1.91,1.91,0,0,1-.58,1.4L9.25,21ZM18.45,9,17,7.55Zm-12,3A5.31,5.31,0,0,0,4.9,8.1,5.31,5.31,0,0,0,1,6.5,5.31,5.31,0,0,0,4.9,4.9,5.31,5.31,0,0,0,6.5,1,5.31,5.31,0,0,0,8.1,4.9,5.31,5.31,0,0,0,12,6.5,5.46,5.46,0,0,0,6.5,12Z\"/>\n",
              "  </svg>\n",
              "    </button>\n",
              "    <script>\n",
              "      (() => {\n",
              "      const buttonEl =\n",
              "        document.querySelector('#id_869c80bf-d4fc-4716-bdc8-39004f5b5832 button.colab-df-generate');\n",
              "      buttonEl.style.display =\n",
              "        google.colab.kernel.accessAllowed ? 'block' : 'none';\n",
              "\n",
              "      buttonEl.onclick = () => {\n",
              "        google.colab.notebook.generateWithVariable('df');\n",
              "      }\n",
              "      })();\n",
              "    </script>\n",
              "  </div>\n",
              "\n",
              "    </div>\n",
              "  </div>\n"
            ],
            "application/vnd.google.colaboratory.intrinsic+json": {
              "type": "dataframe",
              "variable_name": "df",
              "summary": "{\n  \"name\": \"df\",\n  \"rows\": 10,\n  \"fields\": [\n    {\n      \"column\": \"matricula\",\n      \"properties\": {\n        \"dtype\": \"number\",\n        \"std\": 3,\n        \"min\": 1,\n        \"max\": 10,\n        \"num_unique_values\": 10,\n        \"samples\": [\n          9,\n          2,\n          6\n        ],\n        \"semantic_type\": \"\",\n        \"description\": \"\"\n      }\n    },\n    {\n      \"column\": \"nome\",\n      \"properties\": {\n        \"dtype\": \"string\",\n        \"num_unique_values\": 10,\n        \"samples\": [\n          \"Pedro\",\n          \"Ana\",\n          \"Douglas\"\n        ],\n        \"semantic_type\": \"\",\n        \"description\": \"\"\n      }\n    },\n    {\n      \"column\": \"cidade\",\n      \"properties\": {\n        \"dtype\": \"string\",\n        \"num_unique_values\": 6,\n        \"samples\": [\n          \"Atibaia\",\n          \"S\\u00e3o Paulo\",\n          \"Itapeva\"\n        ],\n        \"semantic_type\": \"\",\n        \"description\": \"\"\n      }\n    },\n    {\n      \"column\": \"estado\",\n      \"properties\": {\n        \"dtype\": \"category\",\n        \"num_unique_values\": 2,\n        \"samples\": [\n          \"MG\",\n          \"SP\"\n        ],\n        \"semantic_type\": \"\",\n        \"description\": \"\"\n      }\n    },\n    {\n      \"column\": \"pais\",\n      \"properties\": {\n        \"dtype\": \"category\",\n        \"num_unique_values\": 1,\n        \"samples\": [\n          \"Brasil\"\n        ],\n        \"semantic_type\": \"\",\n        \"description\": \"\"\n      }\n    },\n    {\n      \"column\": \"idade\",\n      \"properties\": {\n        \"dtype\": \"number\",\n        \"std\": 4,\n        \"min\": 28,\n        \"max\": 40,\n        \"num_unique_values\": 7,\n        \"samples\": [\n          35\n        ],\n        \"semantic_type\": \"\",\n        \"description\": \"\"\n      }\n    },\n    {\n      \"column\": \"departamento\",\n      \"properties\": {\n        \"dtype\": \"string\",\n        \"num_unique_values\": 5,\n        \"samples\": [\n          \"Vendas\"\n        ],\n        \"semantic_type\": \"\",\n        \"description\": \"\"\n      }\n    },\n    {\n      \"column\": \"cargo\",\n      \"properties\": {\n        \"dtype\": \"category\",\n        \"num_unique_values\": 4,\n        \"samples\": [\n          \"Coordenador\"\n        ],\n        \"semantic_type\": \"\",\n        \"description\": \"\"\n      }\n    },\n    {\n      \"column\": \"salario\",\n      \"properties\": {\n        \"dtype\": \"number\",\n        \"std\": 10002,\n        \"min\": 10000,\n        \"max\": 40000,\n        \"num_unique_values\": 8,\n        \"samples\": [\n          12000\n        ],\n        \"semantic_type\": \"\",\n        \"description\": \"\"\n      }\n    },\n    {\n      \"column\": \"escolaridade\",\n      \"properties\": {\n        \"dtype\": \"category\",\n        \"num_unique_values\": 3,\n        \"samples\": [\n          \"Superior\"\n        ],\n        \"semantic_type\": \"\",\n        \"description\": \"\"\n      }\n    },\n    {\n      \"column\": \"nota\",\n      \"properties\": {\n        \"dtype\": \"number\",\n        \"std\": 2,\n        \"min\": 1,\n        \"max\": 9,\n        \"num_unique_values\": 8,\n        \"samples\": [\n          6\n        ],\n        \"semantic_type\": \"\",\n        \"description\": \"\"\n      }\n    }\n  ]\n}"
            }
          },
          "metadata": {}
        }
      ]
    },
    {
      "cell_type": "code",
      "source": [
        "idades = list(df['idade'])\n",
        "salarios = list(df['salario'])\n",
        "notas = list(df['nota'])"
      ],
      "metadata": {
        "id": "TJMZa8hqqsvO"
      },
      "execution_count": null,
      "outputs": []
    },
    {
      "cell_type": "markdown",
      "source": [
        "#1- Medidas de Tendência Central"
      ],
      "metadata": {
        "id": "YuGwuLFurBZR"
      }
    },
    {
      "cell_type": "code",
      "source": [
        "#Média Aritmética\n",
        "medianp = np.mean(idades)\n",
        "print (medianp)\n",
        "mediast = st.mean(idades)\n",
        "print(mediast)"
      ],
      "metadata": {
        "colab": {
          "base_uri": "https://localhost:8080/"
        },
        "id": "Um0U7MyArJH8",
        "outputId": "07c2acb3-f807-4f00-c89a-6cbb4fb1312d"
      },
      "execution_count": null,
      "outputs": [
        {
          "output_type": "stream",
          "name": "stdout",
          "text": [
            "32.4\n",
            "32.4\n"
          ]
        }
      ]
    },
    {
      "cell_type": "code",
      "source": [
        "# Mediana\n",
        "mediananp = np.median(idades)\n",
        "print(mediananp)\n",
        "medianast =st.median(idades)\n",
        "print(medianast)"
      ],
      "metadata": {
        "colab": {
          "base_uri": "https://localhost:8080/"
        },
        "id": "nmTGCfr6r9aB",
        "outputId": "164c94de-86bf-4f09-dfac-aa97ce0f3cc1"
      },
      "execution_count": null,
      "outputs": [
        {
          "output_type": "stream",
          "name": "stdout",
          "text": [
            "30.0\n",
            "30.0\n"
          ]
        }
      ]
    },
    {
      "cell_type": "code",
      "source": [
        "# Moda (não existe no numpy)\n",
        "#modanp = np.mode(idades)\n",
        "#print(modanp)\n",
        "modast =st.mode(idades)\n",
        "print(modast)"
      ],
      "metadata": {
        "colab": {
          "base_uri": "https://localhost:8080/"
        },
        "id": "FNViCWRBsUss",
        "outputId": "a287aaa3-2ec3-4c10-c9ed-3591eb58c713"
      },
      "execution_count": null,
      "outputs": [
        {
          "output_type": "stream",
          "name": "stdout",
          "text": [
            "29\n"
          ]
        }
      ]
    },
    {
      "cell_type": "markdown",
      "source": [
        "#2 - Medidas de dispersão"
      ],
      "metadata": {
        "id": "_j0kHlJcs7lf"
      }
    },
    {
      "cell_type": "code",
      "source": [
        "# Variância\n",
        "variancianp = np.var(idades, ddof=1) #no numpy a variancia amostral precisa do parametro ddof graus de liberdade\n",
        "print(variancianp)\n",
        "varianciast =st.variance(idades)\n",
        "print(varianciast)"
      ],
      "metadata": {
        "colab": {
          "base_uri": "https://localhost:8080/"
        },
        "id": "aPSYp2SvtD2w",
        "outputId": "c573dbca-c053-4196-b398-24defa44262e"
      },
      "execution_count": null,
      "outputs": [
        {
          "output_type": "stream",
          "name": "stdout",
          "text": [
            "19.37777777777778\n",
            "19.377777777777776\n"
          ]
        }
      ]
    },
    {
      "cell_type": "code",
      "source": [
        "# Desvio Padrão\n",
        "desvionp = np.std(idades, ddof=1)\n",
        "print(desvionp)\n",
        "desviost = st.stdev(idades)\n",
        "print(desviost)"
      ],
      "metadata": {
        "colab": {
          "base_uri": "https://localhost:8080/"
        },
        "id": "dQSAOvbruJfZ",
        "outputId": "30cc810e-2603-4762-9e1a-6bd6d9d7fa9b"
      },
      "execution_count": null,
      "outputs": [
        {
          "output_type": "stream",
          "name": "stdout",
          "text": [
            "4.402019738458447\n",
            "4.402019738458447\n"
          ]
        }
      ]
    },
    {
      "cell_type": "markdown",
      "source": [
        "# 3 - Medidas Separatrizes"
      ],
      "metadata": {
        "id": "uFSNRVbquxjL"
      }
    },
    {
      "cell_type": "code",
      "source": [
        "# Valor Mínimo\n",
        "minnp = np.min(idades)\n",
        "print(minnp)\n",
        "#minst = st.min(idades) Nesta biblioteca não temos o atributo min\n",
        "#print(minst)"
      ],
      "metadata": {
        "colab": {
          "base_uri": "https://localhost:8080/"
        },
        "id": "Kls-dZfFu-kY",
        "outputId": "33b271ca-9321-474d-c4a6-19074e8d79f9"
      },
      "execution_count": null,
      "outputs": [
        {
          "output_type": "stream",
          "name": "stdout",
          "text": [
            "28\n"
          ]
        }
      ]
    },
    {
      "cell_type": "code",
      "source": [
        "# 1° Quartil - Q1\n",
        "q1np = np.quantile(idades, 0.25)\n",
        "print(q1np)\n",
        "q1st = st.quantiles(idades) [0]\n",
        "print(q1st)"
      ],
      "metadata": {
        "colab": {
          "base_uri": "https://localhost:8080/"
        },
        "id": "V_9wManuwCVP",
        "outputId": "463b5079-c574-44b9-dce7-9d04379e96bd"
      },
      "execution_count": null,
      "outputs": [
        {
          "output_type": "stream",
          "name": "stdout",
          "text": [
            "29.0\n",
            "29.0\n"
          ]
        }
      ]
    },
    {
      "cell_type": "code",
      "source": [
        "# 2° Quartil - Q2\n",
        "q2np = np.quantile(idades, 0.5)\n",
        "print(q2np)\n",
        "q2st = st.quantiles(idades) [1]\n",
        "print(q2st)"
      ],
      "metadata": {
        "colab": {
          "base_uri": "https://localhost:8080/"
        },
        "id": "ThI8hJbawgeA",
        "outputId": "a7208a9f-f4a2-4569-a277-6acec37b1934"
      },
      "execution_count": null,
      "outputs": [
        {
          "output_type": "stream",
          "name": "stdout",
          "text": [
            "30.0\n",
            "30.0\n"
          ]
        }
      ]
    },
    {
      "cell_type": "code",
      "source": [
        "# 3° Quartil - Q3\n",
        "q3np = np.quantile(idades, 0.75)\n",
        "print(q3np)\n",
        "q3st = st.quantiles(idades) [2]\n",
        "print(q3st)"
      ],
      "metadata": {
        "colab": {
          "base_uri": "https://localhost:8080/"
        },
        "id": "z3aXJb6JwpiZ",
        "outputId": "37e79bd6-c1ed-4734-dc05-6b15ac16cd11"
      },
      "execution_count": null,
      "outputs": [
        {
          "output_type": "stream",
          "name": "stdout",
          "text": [
            "35.75\n",
            "36.5\n"
          ]
        }
      ]
    },
    {
      "cell_type": "code",
      "source": [
        "st.quantiles(idades) # os quartis 1°, 2°, 3° e 4°"
      ],
      "metadata": {
        "colab": {
          "base_uri": "https://localhost:8080/"
        },
        "id": "p9KO612Sw8Uu",
        "outputId": "f4011c2a-2771-437f-fe5e-03c9c1361711"
      },
      "execution_count": null,
      "outputs": [
        {
          "output_type": "execute_result",
          "data": {
            "text/plain": [
              "[29.0, 30.0, 36.5]"
            ]
          },
          "metadata": {},
          "execution_count": 23
        }
      ]
    },
    {
      "cell_type": "code",
      "source": [
        "#Valor Máximo\n",
        "maxnp = np.max(idades)\n",
        "print(maxnp)\n",
        "#maxst = st.max(idades) Nesta biblioteca nao tem o atributo max\n",
        "#print(maxst)"
      ],
      "metadata": {
        "colab": {
          "base_uri": "https://localhost:8080/"
        },
        "id": "qwcZc73exGXl",
        "outputId": "26cec016-3122-4244-e9ff-54392e9a1a67"
      },
      "execution_count": null,
      "outputs": [
        {
          "output_type": "stream",
          "name": "stdout",
          "text": [
            "40\n"
          ]
        }
      ]
    },
    {
      "cell_type": "code",
      "source": [
        "# Amplitude Interquartílica - AIQ\n",
        "aiqnp = q3np - q1np\n",
        "print(aiqnp)\n",
        "aiqst = q3st - q1st\n",
        "print(aiqst)"
      ],
      "metadata": {
        "colab": {
          "base_uri": "https://localhost:8080/"
        },
        "id": "ZKUnWWtqxs39",
        "outputId": "43b8b7d8-4023-400c-c8a8-31d4fa0125cc"
      },
      "execution_count": null,
      "outputs": [
        {
          "output_type": "stream",
          "name": "stdout",
          "text": [
            "6.75\n",
            "7.5\n"
          ]
        }
      ]
    },
    {
      "cell_type": "code",
      "source": [
        "#Limite Inferior\n",
        "linp = q1np - (1.5 * aiqnp)\n",
        "print(linp)\n",
        "linst = q1st - (1.5 * aiqst)\n",
        "print(linst)"
      ],
      "metadata": {
        "colab": {
          "base_uri": "https://localhost:8080/"
        },
        "id": "Y5laxQFGyg7d",
        "outputId": "2df03b2d-ff67-43bb-dd3a-4410de0c23a7"
      },
      "execution_count": null,
      "outputs": [
        {
          "output_type": "stream",
          "name": "stdout",
          "text": [
            "18.875\n",
            "17.75\n"
          ]
        }
      ]
    },
    {
      "cell_type": "code",
      "source": [
        "# Limite Superior - LS\n",
        "lsnp = q3np + (1.5 * aiqnp)\n",
        "print(lsnp)\n",
        "lsst = q3st + (1.5 * aiqst)\n",
        "print(lsst)"
      ],
      "metadata": {
        "colab": {
          "base_uri": "https://localhost:8080/"
        },
        "id": "j_8C4diRyoXk",
        "outputId": "31488157-a5b5-4f57-c4d4-2b898fa761c1"
      },
      "execution_count": null,
      "outputs": [
        {
          "output_type": "stream",
          "name": "stdout",
          "text": [
            "45.875\n",
            "47.75\n"
          ]
        }
      ]
    },
    {
      "cell_type": "markdown",
      "source": [
        "#4 - Correlação"
      ],
      "metadata": {
        "id": "9SJdXbBAyWSD"
      }
    },
    {
      "cell_type": "code",
      "source": [
        "corre1np = np.corrcoef(idades, salarios)\n",
        "print(corre1np[0][1])\n",
        "corre1st = st.correlation(idades, salarios)\n",
        "print(corre1st)"
      ],
      "metadata": {
        "colab": {
          "base_uri": "https://localhost:8080/"
        },
        "id": "PFYr6UQHyZ8S",
        "outputId": "4f3c66f3-4ac4-488c-b93f-8f8caa5505cd"
      },
      "execution_count": null,
      "outputs": [
        {
          "output_type": "stream",
          "name": "stdout",
          "text": [
            "0.4633206888881571\n",
            "0.463320688888157\n"
          ]
        }
      ]
    }
  ]
}